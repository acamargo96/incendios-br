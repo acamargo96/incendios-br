{
 "cells": [
  {
   "cell_type": "code",
   "execution_count": 4,
   "metadata": {},
   "outputs": [
    {
     "data": {
      "text/html": [
       "<div>\n",
       "<style scoped>\n",
       "    .dataframe tbody tr th:only-of-type {\n",
       "        vertical-align: middle;\n",
       "    }\n",
       "\n",
       "    .dataframe tbody tr th {\n",
       "        vertical-align: top;\n",
       "    }\n",
       "\n",
       "    .dataframe thead th {\n",
       "        text-align: right;\n",
       "    }\n",
       "</style>\n",
       "<table border=\"1\" class=\"dataframe\">\n",
       "  <thead>\n",
       "    <tr style=\"text-align: right;\">\n",
       "      <th></th>\n",
       "      <th>id_bdq</th>\n",
       "      <th>lat</th>\n",
       "      <th>lon</th>\n",
       "      <th>data_pas</th>\n",
       "      <th>estado</th>\n",
       "      <th>municipio</th>\n",
       "      <th>bioma</th>\n",
       "      <th>satelite</th>\n",
       "      <th>numero_dias_sem_chuva</th>\n",
       "      <th>precipitacao</th>\n",
       "      <th>risco_fogo</th>\n",
       "      <th>id_area_industrial</th>\n",
       "      <th>frp</th>\n",
       "    </tr>\n",
       "  </thead>\n",
       "  <tbody>\n",
       "    <tr>\n",
       "      <th>0</th>\n",
       "      <td>9988885.0</td>\n",
       "      <td>-18.51800</td>\n",
       "      <td>-55.02800</td>\n",
       "      <td>2003-05-15 17:05:00</td>\n",
       "      <td>MATO GROSSO DO SUL</td>\n",
       "      <td>RIO VERDE DE MATO GROSSO</td>\n",
       "      <td>Cerrado</td>\n",
       "      <td>NaN</td>\n",
       "      <td>NaN</td>\n",
       "      <td>NaN</td>\n",
       "      <td>NaN</td>\n",
       "      <td>NaN</td>\n",
       "      <td>NaN</td>\n",
       "    </tr>\n",
       "    <tr>\n",
       "      <th>1</th>\n",
       "      <td>9988884.0</td>\n",
       "      <td>-17.54200</td>\n",
       "      <td>-48.81500</td>\n",
       "      <td>2003-05-15 17:05:00</td>\n",
       "      <td>GOIÁS</td>\n",
       "      <td>PIRACANJUBA</td>\n",
       "      <td>Cerrado</td>\n",
       "      <td>NaN</td>\n",
       "      <td>NaN</td>\n",
       "      <td>NaN</td>\n",
       "      <td>NaN</td>\n",
       "      <td>NaN</td>\n",
       "      <td>NaN</td>\n",
       "    </tr>\n",
       "    <tr>\n",
       "      <th>2</th>\n",
       "      <td>9988882.0</td>\n",
       "      <td>-17.61200</td>\n",
       "      <td>-47.16000</td>\n",
       "      <td>2003-05-15 17:05:00</td>\n",
       "      <td>MINAS GERAIS</td>\n",
       "      <td>GUARDA-MOR</td>\n",
       "      <td>Cerrado</td>\n",
       "      <td>NaN</td>\n",
       "      <td>NaN</td>\n",
       "      <td>NaN</td>\n",
       "      <td>NaN</td>\n",
       "      <td>NaN</td>\n",
       "      <td>NaN</td>\n",
       "    </tr>\n",
       "    <tr>\n",
       "      <th>3</th>\n",
       "      <td>9988881.0</td>\n",
       "      <td>-18.38600</td>\n",
       "      <td>-51.91900</td>\n",
       "      <td>2003-05-15 17:05:00</td>\n",
       "      <td>GOIÁS</td>\n",
       "      <td>SERRANÓPOLIS</td>\n",
       "      <td>Cerrado</td>\n",
       "      <td>NaN</td>\n",
       "      <td>NaN</td>\n",
       "      <td>NaN</td>\n",
       "      <td>NaN</td>\n",
       "      <td>NaN</td>\n",
       "      <td>NaN</td>\n",
       "    </tr>\n",
       "    <tr>\n",
       "      <th>4</th>\n",
       "      <td>9988879.0</td>\n",
       "      <td>-17.87700</td>\n",
       "      <td>-49.09800</td>\n",
       "      <td>2003-05-15 17:05:00</td>\n",
       "      <td>GOIÁS</td>\n",
       "      <td>MORRINHOS</td>\n",
       "      <td>Cerrado</td>\n",
       "      <td>NaN</td>\n",
       "      <td>NaN</td>\n",
       "      <td>NaN</td>\n",
       "      <td>NaN</td>\n",
       "      <td>NaN</td>\n",
       "      <td>NaN</td>\n",
       "    </tr>\n",
       "    <tr>\n",
       "      <th>...</th>\n",
       "      <td>...</td>\n",
       "      <td>...</td>\n",
       "      <td>...</td>\n",
       "      <td>...</td>\n",
       "      <td>...</td>\n",
       "      <td>...</td>\n",
       "      <td>...</td>\n",
       "      <td>...</td>\n",
       "      <td>...</td>\n",
       "      <td>...</td>\n",
       "      <td>...</td>\n",
       "      <td>...</td>\n",
       "      <td>...</td>\n",
       "    </tr>\n",
       "    <tr>\n",
       "      <th>189896</th>\n",
       "      <td>NaN</td>\n",
       "      <td>-10.97751</td>\n",
       "      <td>-50.43589</td>\n",
       "      <td>2023-07-27 18:00:00</td>\n",
       "      <td>TOCANTINS</td>\n",
       "      <td>LAGOA DA CONFUSÃO</td>\n",
       "      <td>Cerrado</td>\n",
       "      <td>AQUA_M-T</td>\n",
       "      <td>46.0</td>\n",
       "      <td>0.0</td>\n",
       "      <td>1.0</td>\n",
       "      <td>0.0</td>\n",
       "      <td>188.2</td>\n",
       "    </tr>\n",
       "    <tr>\n",
       "      <th>189897</th>\n",
       "      <td>NaN</td>\n",
       "      <td>-10.97426</td>\n",
       "      <td>-50.44424</td>\n",
       "      <td>2023-07-27 18:00:00</td>\n",
       "      <td>TOCANTINS</td>\n",
       "      <td>LAGOA DA CONFUSÃO</td>\n",
       "      <td>Cerrado</td>\n",
       "      <td>AQUA_M-T</td>\n",
       "      <td>46.0</td>\n",
       "      <td>0.0</td>\n",
       "      <td>1.0</td>\n",
       "      <td>0.0</td>\n",
       "      <td>331.8</td>\n",
       "    </tr>\n",
       "    <tr>\n",
       "      <th>189898</th>\n",
       "      <td>NaN</td>\n",
       "      <td>-10.96047</td>\n",
       "      <td>-50.43910</td>\n",
       "      <td>2023-07-27 18:00:00</td>\n",
       "      <td>TOCANTINS</td>\n",
       "      <td>LAGOA DA CONFUSÃO</td>\n",
       "      <td>Cerrado</td>\n",
       "      <td>AQUA_M-T</td>\n",
       "      <td>47.0</td>\n",
       "      <td>0.0</td>\n",
       "      <td>1.0</td>\n",
       "      <td>0.0</td>\n",
       "      <td>282.9</td>\n",
       "    </tr>\n",
       "    <tr>\n",
       "      <th>189899</th>\n",
       "      <td>NaN</td>\n",
       "      <td>-10.95722</td>\n",
       "      <td>-50.44749</td>\n",
       "      <td>2023-07-27 18:00:00</td>\n",
       "      <td>TOCANTINS</td>\n",
       "      <td>LAGOA DA CONFUSÃO</td>\n",
       "      <td>Cerrado</td>\n",
       "      <td>AQUA_M-T</td>\n",
       "      <td>47.0</td>\n",
       "      <td>0.0</td>\n",
       "      <td>1.0</td>\n",
       "      <td>0.0</td>\n",
       "      <td>73.3</td>\n",
       "    </tr>\n",
       "    <tr>\n",
       "      <th>189900</th>\n",
       "      <td>NaN</td>\n",
       "      <td>-10.95023</td>\n",
       "      <td>-50.40846</td>\n",
       "      <td>2023-07-27 18:00:00</td>\n",
       "      <td>TOCANTINS</td>\n",
       "      <td>LAGOA DA CONFUSÃO</td>\n",
       "      <td>Cerrado</td>\n",
       "      <td>AQUA_M-T</td>\n",
       "      <td>47.0</td>\n",
       "      <td>0.0</td>\n",
       "      <td>1.0</td>\n",
       "      <td>0.0</td>\n",
       "      <td>82.6</td>\n",
       "    </tr>\n",
       "  </tbody>\n",
       "</table>\n",
       "<p>4612440 rows × 13 columns</p>\n",
       "</div>"
      ],
      "text/plain": [
       "           id_bdq       lat       lon             data_pas  \\\n",
       "0       9988885.0 -18.51800 -55.02800  2003-05-15 17:05:00   \n",
       "1       9988884.0 -17.54200 -48.81500  2003-05-15 17:05:00   \n",
       "2       9988882.0 -17.61200 -47.16000  2003-05-15 17:05:00   \n",
       "3       9988881.0 -18.38600 -51.91900  2003-05-15 17:05:00   \n",
       "4       9988879.0 -17.87700 -49.09800  2003-05-15 17:05:00   \n",
       "...           ...       ...       ...                  ...   \n",
       "189896        NaN -10.97751 -50.43589  2023-07-27 18:00:00   \n",
       "189897        NaN -10.97426 -50.44424  2023-07-27 18:00:00   \n",
       "189898        NaN -10.96047 -50.43910  2023-07-27 18:00:00   \n",
       "189899        NaN -10.95722 -50.44749  2023-07-27 18:00:00   \n",
       "189900        NaN -10.95023 -50.40846  2023-07-27 18:00:00   \n",
       "\n",
       "                    estado                 municipio    bioma  satelite  \\\n",
       "0       MATO GROSSO DO SUL  RIO VERDE DE MATO GROSSO  Cerrado       NaN   \n",
       "1                    GOIÁS               PIRACANJUBA  Cerrado       NaN   \n",
       "2             MINAS GERAIS                GUARDA-MOR  Cerrado       NaN   \n",
       "3                    GOIÁS              SERRANÓPOLIS  Cerrado       NaN   \n",
       "4                    GOIÁS                 MORRINHOS  Cerrado       NaN   \n",
       "...                    ...                       ...      ...       ...   \n",
       "189896           TOCANTINS         LAGOA DA CONFUSÃO  Cerrado  AQUA_M-T   \n",
       "189897           TOCANTINS         LAGOA DA CONFUSÃO  Cerrado  AQUA_M-T   \n",
       "189898           TOCANTINS         LAGOA DA CONFUSÃO  Cerrado  AQUA_M-T   \n",
       "189899           TOCANTINS         LAGOA DA CONFUSÃO  Cerrado  AQUA_M-T   \n",
       "189900           TOCANTINS         LAGOA DA CONFUSÃO  Cerrado  AQUA_M-T   \n",
       "\n",
       "        numero_dias_sem_chuva  precipitacao  risco_fogo  id_area_industrial  \\\n",
       "0                         NaN           NaN         NaN                 NaN   \n",
       "1                         NaN           NaN         NaN                 NaN   \n",
       "2                         NaN           NaN         NaN                 NaN   \n",
       "3                         NaN           NaN         NaN                 NaN   \n",
       "4                         NaN           NaN         NaN                 NaN   \n",
       "...                       ...           ...         ...                 ...   \n",
       "189896                   46.0           0.0         1.0                 0.0   \n",
       "189897                   46.0           0.0         1.0                 0.0   \n",
       "189898                   47.0           0.0         1.0                 0.0   \n",
       "189899                   47.0           0.0         1.0                 0.0   \n",
       "189900                   47.0           0.0         1.0                 0.0   \n",
       "\n",
       "          frp  \n",
       "0         NaN  \n",
       "1         NaN  \n",
       "2         NaN  \n",
       "3         NaN  \n",
       "4         NaN  \n",
       "...       ...  \n",
       "189896  188.2  \n",
       "189897  331.8  \n",
       "189898  282.9  \n",
       "189899   73.3  \n",
       "189900   82.6  \n",
       "\n",
       "[4612440 rows x 13 columns]"
      ]
     },
     "execution_count": 4,
     "metadata": {},
     "output_type": "execute_result"
    }
   ],
   "source": [
    "import os\n",
    "\n",
    "import pandas as pd\n",
    "import numpy as np\n",
    "\n",
    "import pydeck as pdk\n",
    "\n",
    "df = pd.concat([pd.read_csv(f'data/{file}', compression = 'zip') for file in os.listdir('data')])\n",
    "df['lat'] = np.where(df['lat'].isna(), df['latitude'], df['lat'])\n",
    "df['lon'] = np.where(df['lon'].isna(), df['longitude'], df['lon'])\n",
    "df = df[(df['lat'].notna()) & (df['lon'].notna())].copy()\n",
    "df.drop(['latitude', 'longitude', 'foco_id', 'pais'], axis = 1, inplace = True)\n",
    "df\n",
    "# import plotly.colors as pc\n",
    "# df_summary['color'] = pc.sample_colorscale('RdYlGn', samplepoints = df_summary['estado'] / df_summary['estado'].max(), low = 0, high = df_summary['estado'].max())\n",
    "# df_summary['color'] = df_summary['color'].str[4:-1].str.split(', ')\n",
    "# df_summary['color']\n",
    "# df_summary['r'] = df_summary['color'].str[0].astype(int)\n",
    "# df_summary['g'] = df_summary['color'].str[1].astype(int)\n",
    "# df_summary['b'] = df_summary['color'].str[2].astype(int)\n",
    "# df_summary['color'] = df_summary['color'].apply(lambda val: str([int(v) for v in val]))[0]\n"
   ]
  },
  {
   "cell_type": "code",
   "execution_count": 5,
   "metadata": {},
   "outputs": [],
   "source": [
    "df['data_pas'] = pd.to_datetime(df['data_pas'])\n",
    "df['ano'] = df['data_pas'].dt.year\n",
    "df['id_bdq'] = df['id_bdq'].fillna('a')"
   ]
  },
  {
   "cell_type": "code",
   "execution_count": 6,
   "metadata": {},
   "outputs": [],
   "source": [
    "df_count = df[['ano', 'estado', 'id_bdq']].groupby(['ano', 'estado']).count().reset_index().pivot_table(\n",
    "    index = 'ano',\n",
    "    columns = 'estado',\n",
    "    values = 'id_bdq'\n",
    ")"
   ]
  },
  {
   "cell_type": "code",
   "execution_count": 7,
   "metadata": {},
   "outputs": [],
   "source": [
    "import plotly.graph_objs as go\n",
    "import plotly.io as pio\n",
    "import plotly.colors as pc\n",
    "import plotly.offline"
   ]
  },
  {
   "cell_type": "code",
   "execution_count": 8,
   "metadata": {},
   "outputs": [],
   "source": [
    "df_count_rel = df_count.copy()"
   ]
  },
  {
   "cell_type": "code",
   "execution_count": 9,
   "metadata": {},
   "outputs": [],
   "source": [
    "for _, row in df_count_rel.iterrows():\n",
    "    row /= row.sum()"
   ]
  },
  {
   "cell_type": "code",
   "execution_count": 10,
   "metadata": {},
   "outputs": [
    {
     "data": {
      "application/vnd.plotly.v1+json": {
       "config": {
        "plotlyServerURL": "https://plot.ly"
       },
       "data": [
        {
         "name": "ACRE",
         "text": [
          "ACRE<br>10,523",
          "ACRE<br>7,271",
          "ACRE<br>15,993",
          "ACRE<br>6,198",
          "ACRE<br>8,549",
          "ACRE<br>5,699",
          "",
          "ACRE<br>8,661",
          "",
          "",
          "",
          "ACRE<br>5,779",
          "ACRE<br>7,684",
          "ACRE<br>6,295",
          "ACRE<br>6,626",
          "ACRE<br>6,802",
          "ACRE<br>9,193",
          "ACRE<br>8,828",
          "ACRE<br>11,840",
          "ACRE<br>6,562"
         ],
         "type": "bar",
         "x": [
          2003,
          2004,
          2005,
          2006,
          2007,
          2008,
          2009,
          2010,
          2011,
          2013,
          2014,
          2015,
          2016,
          2017,
          2018,
          2019,
          2020,
          2021,
          2022,
          2023
         ],
         "y": [
          10523,
          7271,
          15993,
          6198,
          8549,
          5699,
          3511,
          8661,
          3191,
          4980,
          4398,
          5779,
          7684,
          6295,
          6626,
          6802,
          9193,
          8828,
          11840,
          6562
         ]
        },
        {
         "name": "ALAGOAS",
         "text": [
          "",
          "",
          "",
          "",
          "",
          "",
          "",
          "",
          "",
          "",
          "",
          "",
          "",
          "",
          "",
          "",
          "",
          "",
          "",
          ""
         ],
         "type": "bar",
         "x": [
          2003,
          2004,
          2005,
          2006,
          2007,
          2008,
          2009,
          2010,
          2011,
          2013,
          2014,
          2015,
          2016,
          2017,
          2018,
          2019,
          2020,
          2021,
          2022,
          2023
         ],
         "y": [
          373,
          233,
          292,
          268,
          262,
          409,
          360,
          299,
          267,
          201,
          165,
          460,
          388,
          129,
          201,
          232,
          159,
          173,
          140,
          227
         ]
        },
        {
         "name": "AMAPÁ",
         "text": [
          "",
          "",
          "",
          "",
          "",
          "",
          "",
          "",
          "",
          "",
          "",
          "",
          "",
          "",
          "",
          "",
          "",
          "",
          "",
          ""
         ],
         "type": "bar",
         "x": [
          2003,
          2004,
          2005,
          2006,
          2007,
          2008,
          2009,
          2010,
          2011,
          2013,
          2014,
          2015,
          2016,
          2017,
          2018,
          2019,
          2020,
          2021,
          2022,
          2023
         ],
         "y": [
          2516,
          3413,
          2020,
          1665,
          1484,
          2153,
          2456,
          1000,
          1396,
          1529,
          1848,
          2936,
          2595,
          1946,
          1206,
          1277,
          750,
          676,
          990,
          2552
         ]
        },
        {
         "name": "AMAZONAS",
         "text": [
          "AMAZONAS<br>10,191",
          "AMAZONAS<br>8,083",
          "AMAZONAS<br>15,644",
          "AMAZONAS<br>11,697",
          "AMAZONAS<br>11,293",
          "AMAZONAS<br>6,701",
          "AMAZONAS<br>9,280",
          "AMAZONAS<br>12,139",
          "AMAZONAS<br>5,028",
          "AMAZONAS<br>6,512",
          "AMAZONAS<br>9,007",
          "AMAZONAS<br>13,419",
          "AMAZONAS<br>11,173",
          "AMAZONAS<br>11,685",
          "AMAZONAS<br>11,446",
          "AMAZONAS<br>12,676",
          "AMAZONAS<br>16,729",
          "AMAZONAS<br>14,848",
          "AMAZONAS<br>21,217",
          "AMAZONAS<br>19,601"
         ],
         "type": "bar",
         "x": [
          2003,
          2004,
          2005,
          2006,
          2007,
          2008,
          2009,
          2010,
          2011,
          2013,
          2014,
          2015,
          2016,
          2017,
          2018,
          2019,
          2020,
          2021,
          2022,
          2023
         ],
         "y": [
          10191,
          8083,
          15644,
          11697,
          11293,
          6701,
          9280,
          12139,
          5028,
          6512,
          9007,
          13419,
          11173,
          11685,
          11446,
          12676,
          16729,
          14848,
          21217,
          19601
         ]
        },
        {
         "name": "BAHIA",
         "text": [
          "BAHIA<br>19,584",
          "BAHIA<br>18,983",
          "BAHIA<br>18,447",
          "BAHIA<br>10,218",
          "BAHIA<br>29,468",
          "BAHIA<br>20,781",
          "BAHIA<br>8,956",
          "BAHIA<br>17,063",
          "BAHIA<br>13,136",
          "BAHIA<br>7,231",
          "BAHIA<br>7,190",
          "BAHIA<br>16,513",
          "BAHIA<br>6,311",
          "BAHIA<br>6,450",
          "",
          "BAHIA<br>7,371",
          "BAHIA<br>7,912",
          "BAHIA<br>14,359",
          "BAHIA<br>9,820",
          "BAHIA<br>11,917"
         ],
         "type": "bar",
         "x": [
          2003,
          2004,
          2005,
          2006,
          2007,
          2008,
          2009,
          2010,
          2011,
          2013,
          2014,
          2015,
          2016,
          2017,
          2018,
          2019,
          2020,
          2021,
          2022,
          2023
         ],
         "y": [
          19584,
          18983,
          18447,
          10218,
          29468,
          20781,
          8956,
          17063,
          13136,
          7231,
          7190,
          16513,
          6311,
          6450,
          4956,
          7371,
          7912,
          14359,
          9820,
          11917
         ]
        },
        {
         "name": "CEARÁ",
         "text": [
          "CEARÁ<br>11,626",
          "CEARÁ<br>10,582",
          "CEARÁ<br>8,524",
          "CEARÁ<br>6,167",
          "CEARÁ<br>7,527",
          "CEARÁ<br>7,631",
          "CEARÁ<br>5,447",
          "",
          "",
          "",
          "",
          "",
          "",
          "",
          "",
          "",
          "",
          "",
          "",
          "CEARÁ<br>6,808"
         ],
         "type": "bar",
         "x": [
          2003,
          2004,
          2005,
          2006,
          2007,
          2008,
          2009,
          2010,
          2011,
          2013,
          2014,
          2015,
          2016,
          2017,
          2018,
          2019,
          2020,
          2021,
          2022,
          2023
         ],
         "y": [
          11626,
          10582,
          8524,
          6167,
          7527,
          7631,
          5447,
          4934,
          4798,
          2831,
          2327,
          3158,
          4316,
          3486,
          3034,
          4304,
          3979,
          4379,
          4136,
          6808
         ]
        },
        {
         "name": "DISTRITO FEDERAL",
         "text": [
          "",
          "",
          "",
          "",
          "",
          "",
          "",
          "",
          "",
          "",
          "",
          "",
          "",
          "",
          "",
          "",
          "",
          "",
          "",
          ""
         ],
         "type": "bar",
         "x": [
          2003,
          2004,
          2005,
          2006,
          2007,
          2008,
          2009,
          2010,
          2011,
          2013,
          2014,
          2015,
          2016,
          2017,
          2018,
          2019,
          2020,
          2021,
          2022,
          2023
         ],
         "y": [
          161,
          312,
          140,
          140,
          485,
          201,
          99,
          613,
          270,
          105,
          241,
          155,
          229,
          287,
          88,
          213,
          196,
          259,
          251,
          89
         ]
        },
        {
         "name": "ESPÍRITO SANTO",
         "text": [
          "",
          "",
          "",
          "",
          "",
          "",
          "",
          "",
          "",
          "",
          "",
          "",
          "",
          "",
          "",
          "",
          "",
          "",
          "",
          ""
         ],
         "type": "bar",
         "x": [
          2003,
          2004,
          2005,
          2006,
          2007,
          2008,
          2009,
          2010,
          2011,
          2013,
          2014,
          2015,
          2016,
          2017,
          2018,
          2019,
          2020,
          2021,
          2022,
          2023
         ],
         "y": [
          976,
          267,
          199,
          431,
          757,
          412,
          239,
          295,
          364,
          275,
          296,
          940,
          599,
          187,
          205,
          622,
          401,
          549,
          474,
          543
         ]
        },
        {
         "name": "GOIÁS",
         "text": [
          "GOIÁS<br>6,874",
          "GOIÁS<br>9,012",
          "GOIÁS<br>6,128",
          "",
          "GOIÁS<br>12,639",
          "GOIÁS<br>5,240",
          "",
          "GOIÁS<br>13,419",
          "GOIÁS<br>5,766",
          "",
          "GOIÁS<br>5,897",
          "GOIÁS<br>6,107",
          "",
          "GOIÁS<br>6,428",
          "",
          "GOIÁS<br>7,160",
          "GOIÁS<br>6,008",
          "GOIÁS<br>6,020",
          "",
          ""
         ],
         "type": "bar",
         "x": [
          2003,
          2004,
          2005,
          2006,
          2007,
          2008,
          2009,
          2010,
          2011,
          2013,
          2014,
          2015,
          2016,
          2017,
          2018,
          2019,
          2020,
          2021,
          2022,
          2023
         ],
         "y": [
          6874,
          9012,
          6128,
          4387,
          12639,
          5240,
          2920,
          13419,
          5766,
          3050,
          5897,
          6107,
          4912,
          6428,
          3110,
          7160,
          6008,
          6020,
          4796,
          3160
         ]
        },
        {
         "name": "MARANHÃO",
         "text": [
          "MARANHÃO<br>34,548",
          "MARANHÃO<br>33,585",
          "MARANHÃO<br>33,691",
          "MARANHÃO<br>23,302",
          "MARANHÃO<br>44,765",
          "MARANHÃO<br>22,122",
          "MARANHÃO<br>19,132",
          "MARANHÃO<br>36,277",
          "MARANHÃO<br>19,315",
          "MARANHÃO<br>17,455",
          "MARANHÃO<br>24,675",
          "MARANHÃO<br>28,436",
          "MARANHÃO<br>21,789",
          "MARANHÃO<br>25,576",
          "MARANHÃO<br>13,892",
          "MARANHÃO<br>18,521",
          "MARANHÃO<br>16,817",
          "MARANHÃO<br>16,077",
          "MARANHÃO<br>20,224",
          "MARANHÃO<br>21,113"
         ],
         "type": "bar",
         "x": [
          2003,
          2004,
          2005,
          2006,
          2007,
          2008,
          2009,
          2010,
          2011,
          2013,
          2014,
          2015,
          2016,
          2017,
          2018,
          2019,
          2020,
          2021,
          2022,
          2023
         ],
         "y": [
          34548,
          33585,
          33691,
          23302,
          44765,
          22122,
          19132,
          36277,
          19315,
          17455,
          24675,
          28436,
          21789,
          25576,
          13892,
          18521,
          16817,
          16077,
          20224,
          21113
         ]
        },
        {
         "name": "MATO GROSSO",
         "text": [
          "MATO GROSSO<br>70,560",
          "MATO GROSSO<br>97,012",
          "MATO GROSSO<br>72,104",
          "MATO GROSSO<br>43,479",
          "MATO GROSSO<br>79,968",
          "MATO GROSSO<br>29,448",
          "MATO GROSSO<br>15,059",
          "MATO GROSSO<br>59,013",
          "MATO GROSSO<br>17,371",
          "MATO GROSSO<br>18,554",
          "MATO GROSSO<br>24,955",
          "MATO GROSSO<br>27,741",
          "MATO GROSSO<br>27,305",
          "MATO GROSSO<br>30,911",
          "MATO GROSSO<br>18,032",
          "MATO GROSSO<br>31,169",
          "MATO GROSSO<br>47,708",
          "MATO GROSSO<br>22,520",
          "MATO GROSSO<br>29,039",
          "MATO GROSSO<br>21,723"
         ],
         "type": "bar",
         "x": [
          2003,
          2004,
          2005,
          2006,
          2007,
          2008,
          2009,
          2010,
          2011,
          2013,
          2014,
          2015,
          2016,
          2017,
          2018,
          2019,
          2020,
          2021,
          2022,
          2023
         ],
         "y": [
          70560,
          97012,
          72104,
          43479,
          79968,
          29448,
          15059,
          59013,
          17371,
          18554,
          24955,
          27741,
          27305,
          30911,
          18032,
          31169,
          47708,
          22520,
          29039,
          21723
         ]
        },
        {
         "name": "MATO GROSSO DO SUL",
         "text": [
          "MATO GROSSO DO SUL<br>5,612",
          "MATO GROSSO DO SUL<br>8,616",
          "MATO GROSSO DO SUL<br>12,904",
          "MATO GROSSO DO SUL<br>5,244",
          "MATO GROSSO DO SUL<br>11,139",
          "",
          "MATO GROSSO DO SUL<br>6,313",
          "MATO GROSSO DO SUL<br>7,356",
          "",
          "",
          "",
          "",
          "MATO GROSSO DO SUL<br>6,373",
          "MATO GROSSO DO SUL<br>5,737",
          "",
          "MATO GROSSO DO SUL<br>11,653",
          "MATO GROSSO DO SUL<br>12,080",
          "MATO GROSSO DO SUL<br>9,377",
          "",
          ""
         ],
         "type": "bar",
         "x": [
          2003,
          2004,
          2005,
          2006,
          2007,
          2008,
          2009,
          2010,
          2011,
          2013,
          2014,
          2015,
          2016,
          2017,
          2018,
          2019,
          2020,
          2021,
          2022,
          2023
         ],
         "y": [
          5612,
          8616,
          12904,
          5244,
          11139,
          4830,
          6313,
          7356,
          3731,
          3615,
          2214,
          4617,
          6373,
          5737,
          2380,
          11653,
          12080,
          9377,
          2368,
          4529
         ]
        },
        {
         "name": "MINAS GERAIS",
         "text": [
          "MINAS GERAIS<br>19,426",
          "MINAS GERAIS<br>13,229",
          "MINAS GERAIS<br>13,702",
          "MINAS GERAIS<br>8,832",
          "MINAS GERAIS<br>22,514",
          "MINAS GERAIS<br>11,888",
          "",
          "MINAS GERAIS<br>13,766",
          "MINAS GERAIS<br>11,766",
          "MINAS GERAIS<br>5,387",
          "MINAS GERAIS<br>11,337",
          "MINAS GERAIS<br>9,490",
          "MINAS GERAIS<br>6,482",
          "MINAS GERAIS<br>8,383",
          "",
          "MINAS GERAIS<br>9,999",
          "MINAS GERAIS<br>8,737",
          "MINAS GERAIS<br>12,110",
          "MINAS GERAIS<br>7,790",
          "MINAS GERAIS<br>6,498"
         ],
         "type": "bar",
         "x": [
          2003,
          2004,
          2005,
          2006,
          2007,
          2008,
          2009,
          2010,
          2011,
          2013,
          2014,
          2015,
          2016,
          2017,
          2018,
          2019,
          2020,
          2021,
          2022,
          2023
         ],
         "y": [
          19426,
          13229,
          13702,
          8832,
          22514,
          11888,
          4936,
          13766,
          11766,
          5387,
          11337,
          9490,
          6482,
          8383,
          4627,
          9999,
          8737,
          12110,
          7790,
          6498
         ]
        },
        {
         "name": "PARANÁ",
         "text": [
          "PARANÁ<br>10,866",
          "PARANÁ<br>7,132",
          "PARANÁ<br>5,023",
          "PARANÁ<br>5,880",
          "",
          "",
          "",
          "",
          "",
          "",
          "",
          "",
          "",
          "",
          "",
          "",
          "",
          "",
          "",
          ""
         ],
         "type": "bar",
         "x": [
          2003,
          2004,
          2005,
          2006,
          2007,
          2008,
          2009,
          2010,
          2011,
          2013,
          2014,
          2015,
          2016,
          2017,
          2018,
          2019,
          2020,
          2021,
          2022,
          2023
         ],
         "y": [
          10866,
          7132,
          5023,
          5880,
          4998,
          3662,
          3025,
          3398,
          3388,
          2531,
          2233,
          2087,
          4151,
          3592,
          2511,
          3314,
          3519,
          3698,
          1771,
          1439
         ]
        },
        {
         "name": "PARAÍBA",
         "text": [
          "",
          "",
          "",
          "",
          "",
          "",
          "",
          "",
          "",
          "",
          "",
          "",
          "",
          "",
          "",
          "",
          "",
          "",
          "",
          ""
         ],
         "type": "bar",
         "x": [
          2003,
          2004,
          2005,
          2006,
          2007,
          2008,
          2009,
          2010,
          2011,
          2013,
          2014,
          2015,
          2016,
          2017,
          2018,
          2019,
          2020,
          2021,
          2022,
          2023
         ],
         "y": [
          1562,
          1108,
          1004,
          1014,
          987,
          867,
          1056,
          956,
          942,
          306,
          395,
          540,
          708,
          363,
          759,
          1184,
          910,
          907,
          800,
          951
         ]
        },
        {
         "name": "PARÁ",
         "text": [
          "PARÁ<br>53,040",
          "PARÁ<br>74,214",
          "PARÁ<br>71,477",
          "PARÁ<br>55,840",
          "PARÁ<br>68,491",
          "PARÁ<br>48,449",
          "PARÁ<br>41,664",
          "PARÁ<br>57,196",
          "PARÁ<br>26,563",
          "PARÁ<br>24,046",
          "PARÁ<br>35,526",
          "PARÁ<br>43,164",
          "PARÁ<br>29,724",
          "PARÁ<br>49,770",
          "PARÁ<br>22,080",
          "PARÁ<br>30,165",
          "PARÁ<br>38,603",
          "PARÁ<br>22,876",
          "PARÁ<br>41,421",
          "PARÁ<br>41,715"
         ],
         "type": "bar",
         "x": [
          2003,
          2004,
          2005,
          2006,
          2007,
          2008,
          2009,
          2010,
          2011,
          2013,
          2014,
          2015,
          2016,
          2017,
          2018,
          2019,
          2020,
          2021,
          2022,
          2023
         ],
         "y": [
          53040,
          74214,
          71477,
          55840,
          68491,
          48449,
          41664,
          57196,
          26563,
          24046,
          35526,
          43164,
          29724,
          49770,
          22080,
          30165,
          38603,
          22876,
          41421,
          41715
         ]
        },
        {
         "name": "PERNAMBUCO",
         "text": [
          "",
          "",
          "",
          "",
          "",
          "",
          "",
          "",
          "",
          "",
          "",
          "",
          "",
          "",
          "",
          "",
          "",
          "",
          "",
          ""
         ],
         "type": "bar",
         "x": [
          2003,
          2004,
          2005,
          2006,
          2007,
          2008,
          2009,
          2010,
          2011,
          2013,
          2014,
          2015,
          2016,
          2017,
          2018,
          2019,
          2020,
          2021,
          2022,
          2023
         ],
         "y": [
          2770,
          2003,
          1811,
          1759,
          2157,
          1620,
          1714,
          1919,
          1722,
          696,
          593,
          950,
          874,
          563,
          722,
          840,
          1017,
          1192,
          1155,
          1834
         ]
        },
        {
         "name": "PIAUÍ",
         "text": [
          "PIAUÍ<br>10,858",
          "PIAUÍ<br>11,186",
          "PIAUÍ<br>11,874",
          "PIAUÍ<br>7,867",
          "PIAUÍ<br>17,978",
          "PIAUÍ<br>6,656",
          "PIAUÍ<br>6,541",
          "PIAUÍ<br>19,192",
          "PIAUÍ<br>11,163",
          "PIAUÍ<br>6,484",
          "PIAUÍ<br>9,210",
          "PIAUÍ<br>13,839",
          "PIAUÍ<br>8,303",
          "PIAUÍ<br>7,657",
          "PIAUÍ<br>9,431",
          "PIAUÍ<br>10,894",
          "PIAUÍ<br>9,317",
          "PIAUÍ<br>12,745",
          "PIAUÍ<br>10,866",
          "PIAUÍ<br>12,957"
         ],
         "type": "bar",
         "x": [
          2003,
          2004,
          2005,
          2006,
          2007,
          2008,
          2009,
          2010,
          2011,
          2013,
          2014,
          2015,
          2016,
          2017,
          2018,
          2019,
          2020,
          2021,
          2022,
          2023
         ],
         "y": [
          10858,
          11186,
          11874,
          7867,
          17978,
          6656,
          6541,
          19192,
          11163,
          6484,
          9210,
          13839,
          8303,
          7657,
          9431,
          10894,
          9317,
          12745,
          10866,
          12957
         ]
        },
        {
         "name": "RIO DE JANEIRO",
         "text": [
          "",
          "",
          "",
          "",
          "",
          "",
          "",
          "",
          "",
          "",
          "",
          "",
          "",
          "",
          "",
          "",
          "",
          "",
          "",
          ""
         ],
         "type": "bar",
         "x": [
          2003,
          2004,
          2005,
          2006,
          2007,
          2008,
          2009,
          2010,
          2011,
          2013,
          2014,
          2015,
          2016,
          2017,
          2018,
          2019,
          2020,
          2021,
          2022,
          2023
         ],
         "y": [
          1111,
          750,
          687,
          1172,
          1369,
          590,
          422,
          1137,
          1101,
          392,
          1283,
          542,
          677,
          959,
          246,
          712,
          693,
          502,
          747,
          404
         ]
        },
        {
         "name": "RIO GRANDE DO NORTE",
         "text": [
          "",
          "",
          "",
          "",
          "",
          "",
          "",
          "",
          "",
          "",
          "",
          "",
          "",
          "",
          "",
          "",
          "",
          "",
          "",
          ""
         ],
         "type": "bar",
         "x": [
          2003,
          2004,
          2005,
          2006,
          2007,
          2008,
          2009,
          2010,
          2011,
          2013,
          2014,
          2015,
          2016,
          2017,
          2018,
          2019,
          2020,
          2021,
          2022,
          2023
         ],
         "y": [
          1547,
          825,
          1001,
          734,
          774,
          597,
          659,
          628,
          464,
          250,
          317,
          402,
          378,
          351,
          456,
          730,
          664,
          563,
          411,
          579
         ]
        },
        {
         "name": "RIO GRANDE DO SUL",
         "text": [
          "RIO GRANDE DO SUL<br>6,132",
          "",
          "",
          "",
          "",
          "",
          "",
          "",
          "",
          "",
          "",
          "",
          "",
          "",
          "",
          "",
          "",
          "",
          "",
          ""
         ],
         "type": "bar",
         "x": [
          2003,
          2004,
          2005,
          2006,
          2007,
          2008,
          2009,
          2010,
          2011,
          2013,
          2014,
          2015,
          2016,
          2017,
          2018,
          2019,
          2020,
          2021,
          2022,
          2023
         ],
         "y": [
          6132,
          4729,
          2867,
          4116,
          2822,
          2360,
          2988,
          2515,
          1979,
          1547,
          2104,
          1278,
          3527,
          2218,
          1615,
          3196,
          3612,
          2445,
          1635,
          1825
         ]
        },
        {
         "name": "RONDÔNIA",
         "text": [
          "RONDÔNIA<br>30,557",
          "RONDÔNIA<br>40,881",
          "RONDÔNIA<br>41,649",
          "RONDÔNIA<br>25,702",
          "RONDÔNIA<br>27,500",
          "RONDÔNIA<br>11,560",
          "RONDÔNIA<br>5,401",
          "RONDÔNIA<br>16,970",
          "RONDÔNIA<br>6,080",
          "",
          "RONDÔNIA<br>7,334",
          "RONDÔNIA<br>13,113",
          "RONDÔNIA<br>11,474",
          "RONDÔNIA<br>11,313",
          "RONDÔNIA<br>10,255",
          "RONDÔNIA<br>11,230",
          "RONDÔNIA<br>11,145",
          "RONDÔNIA<br>10,030",
          "RONDÔNIA<br>12,460",
          "RONDÔNIA<br>7,417"
         ],
         "type": "bar",
         "x": [
          2003,
          2004,
          2005,
          2006,
          2007,
          2008,
          2009,
          2010,
          2011,
          2013,
          2014,
          2015,
          2016,
          2017,
          2018,
          2019,
          2020,
          2021,
          2022,
          2023
         ],
         "y": [
          30557,
          40881,
          41649,
          25702,
          27500,
          11560,
          5401,
          16970,
          6080,
          4613,
          7334,
          13113,
          11474,
          11313,
          10255,
          11230,
          11145,
          10030,
          12460,
          7417
         ]
        },
        {
         "name": "RORAIMA",
         "text": [
          "",
          "",
          "",
          "",
          "",
          "",
          "",
          "",
          "",
          "",
          "",
          "",
          "",
          "",
          "",
          "",
          "",
          "",
          "",
          ""
         ],
         "type": "bar",
         "x": [
          2003,
          2004,
          2005,
          2006,
          2007,
          2008,
          2009,
          2010,
          2011,
          2013,
          2014,
          2015,
          2016,
          2017,
          2018,
          2019,
          2020,
          2021,
          2022,
          2023
         ],
         "y": [
          3987,
          2221,
          1461,
          2189,
          3244,
          1950,
          2359,
          1918,
          1475,
          1395,
          2519,
          2452,
          3870,
          1565,
          2383,
          4784,
          1930,
          989,
          1223,
          2659
         ]
        },
        {
         "name": "SANTA CATARINA",
         "text": [
          "SANTA CATARINA<br>7,648",
          "SANTA CATARINA<br>5,030",
          "",
          "",
          "",
          "",
          "",
          "",
          "",
          "",
          "",
          "",
          "",
          "",
          "",
          "",
          "",
          "",
          "",
          ""
         ],
         "type": "bar",
         "x": [
          2003,
          2004,
          2005,
          2006,
          2007,
          2008,
          2009,
          2010,
          2011,
          2013,
          2014,
          2015,
          2016,
          2017,
          2018,
          2019,
          2020,
          2021,
          2022,
          2023
         ],
         "y": [
          7648,
          5030,
          3582,
          4986,
          2689,
          2245,
          2121,
          2163,
          1772,
          1663,
          1180,
          906,
          2561,
          2005,
          1417,
          1804,
          2425,
          2351,
          1360,
          1341
         ]
        },
        {
         "name": "SERGIPE",
         "text": [
          "",
          "",
          "",
          "",
          "",
          "",
          "",
          "",
          "",
          "",
          "",
          "",
          "",
          "",
          "",
          "",
          "",
          "",
          "",
          ""
         ],
         "type": "bar",
         "x": [
          2003,
          2004,
          2005,
          2006,
          2007,
          2008,
          2009,
          2010,
          2011,
          2013,
          2014,
          2015,
          2016,
          2017,
          2018,
          2019,
          2020,
          2021,
          2022,
          2023
         ],
         "y": [
          468,
          288,
          293,
          226,
          191,
          313,
          253,
          165,
          231,
          174,
          89,
          241,
          134,
          77,
          140,
          81,
          77,
          132,
          85,
          151
         ]
        },
        {
         "name": "SÃO PAULO",
         "text": [
          "SÃO PAULO<br>5,597",
          "",
          "",
          "SÃO PAULO<br>5,367",
          "",
          "",
          "",
          "SÃO PAULO<br>7,291",
          "",
          "",
          "",
          "",
          "",
          "",
          "",
          "",
          "SÃO PAULO<br>6,123",
          "SÃO PAULO<br>5,469",
          "",
          ""
         ],
         "type": "bar",
         "x": [
          2003,
          2004,
          2005,
          2006,
          2007,
          2008,
          2009,
          2010,
          2011,
          2013,
          2014,
          2015,
          2016,
          2017,
          2018,
          2019,
          2020,
          2021,
          2022,
          2023
         ],
         "y": [
          5597,
          4333,
          3832,
          5367,
          4476,
          2796,
          1763,
          7291,
          4183,
          2388,
          4484,
          1808,
          3186,
          3902,
          3019,
          3074,
          6123,
          5469,
          1599,
          1666
         ]
        },
        {
         "name": "TOCANTINS",
         "text": [
          "TOCANTINS<br>12,124",
          "TOCANTINS<br>15,147",
          "TOCANTINS<br>16,214",
          "TOCANTINS<br>10,299",
          "TOCANTINS<br>25,389",
          "TOCANTINS<br>10,753",
          "TOCANTINS<br>6,428",
          "TOCANTINS<br>29,100",
          "TOCANTINS<br>10,637",
          "TOCANTINS<br>9,935",
          "TOCANTINS<br>14,075",
          "TOCANTINS<br>15,705",
          "TOCANTINS<br>14,494",
          "TOCANTINS<br>15,673",
          "TOCANTINS<br>8,033",
          "TOCANTINS<br>13,625",
          "TOCANTINS<br>12,093",
          "TOCANTINS<br>10,007",
          "TOCANTINS<br>12,145",
          "TOCANTINS<br>9,641"
         ],
         "type": "bar",
         "x": [
          2003,
          2004,
          2005,
          2006,
          2007,
          2008,
          2009,
          2010,
          2011,
          2013,
          2014,
          2015,
          2016,
          2017,
          2018,
          2019,
          2020,
          2021,
          2022,
          2023
         ],
         "y": [
          12124,
          15147,
          16214,
          10299,
          25389,
          10753,
          6428,
          29100,
          10637,
          9935,
          14075,
          15705,
          14494,
          15673,
          8033,
          13625,
          12093,
          10007,
          12145,
          9641
         ]
        }
       ],
       "layout": {
        "barmode": "stack",
        "template": {
         "data": {
          "bar": [
           {
            "error_x": {
             "color": "#f2f5fa"
            },
            "error_y": {
             "color": "#f2f5fa"
            },
            "marker": {
             "line": {
              "color": "rgb(17,17,17)",
              "width": 0.5
             },
             "pattern": {
              "fillmode": "overlay",
              "size": 10,
              "solidity": 0.2
             }
            },
            "type": "bar"
           }
          ],
          "barpolar": [
           {
            "marker": {
             "line": {
              "color": "rgb(17,17,17)",
              "width": 0.5
             },
             "pattern": {
              "fillmode": "overlay",
              "size": 10,
              "solidity": 0.2
             }
            },
            "type": "barpolar"
           }
          ],
          "carpet": [
           {
            "aaxis": {
             "endlinecolor": "#A2B1C6",
             "gridcolor": "#506784",
             "linecolor": "#506784",
             "minorgridcolor": "#506784",
             "startlinecolor": "#A2B1C6"
            },
            "baxis": {
             "endlinecolor": "#A2B1C6",
             "gridcolor": "#506784",
             "linecolor": "#506784",
             "minorgridcolor": "#506784",
             "startlinecolor": "#A2B1C6"
            },
            "type": "carpet"
           }
          ],
          "choropleth": [
           {
            "colorbar": {
             "outlinewidth": 0,
             "ticks": ""
            },
            "type": "choropleth"
           }
          ],
          "contour": [
           {
            "colorbar": {
             "outlinewidth": 0,
             "ticks": ""
            },
            "colorscale": [
             [
              0,
              "#0d0887"
             ],
             [
              0.1111111111111111,
              "#46039f"
             ],
             [
              0.2222222222222222,
              "#7201a8"
             ],
             [
              0.3333333333333333,
              "#9c179e"
             ],
             [
              0.4444444444444444,
              "#bd3786"
             ],
             [
              0.5555555555555556,
              "#d8576b"
             ],
             [
              0.6666666666666666,
              "#ed7953"
             ],
             [
              0.7777777777777778,
              "#fb9f3a"
             ],
             [
              0.8888888888888888,
              "#fdca26"
             ],
             [
              1,
              "#f0f921"
             ]
            ],
            "type": "contour"
           }
          ],
          "contourcarpet": [
           {
            "colorbar": {
             "outlinewidth": 0,
             "ticks": ""
            },
            "type": "contourcarpet"
           }
          ],
          "heatmap": [
           {
            "colorbar": {
             "outlinewidth": 0,
             "ticks": ""
            },
            "colorscale": [
             [
              0,
              "#0d0887"
             ],
             [
              0.1111111111111111,
              "#46039f"
             ],
             [
              0.2222222222222222,
              "#7201a8"
             ],
             [
              0.3333333333333333,
              "#9c179e"
             ],
             [
              0.4444444444444444,
              "#bd3786"
             ],
             [
              0.5555555555555556,
              "#d8576b"
             ],
             [
              0.6666666666666666,
              "#ed7953"
             ],
             [
              0.7777777777777778,
              "#fb9f3a"
             ],
             [
              0.8888888888888888,
              "#fdca26"
             ],
             [
              1,
              "#f0f921"
             ]
            ],
            "type": "heatmap"
           }
          ],
          "heatmapgl": [
           {
            "colorbar": {
             "outlinewidth": 0,
             "ticks": ""
            },
            "colorscale": [
             [
              0,
              "#0d0887"
             ],
             [
              0.1111111111111111,
              "#46039f"
             ],
             [
              0.2222222222222222,
              "#7201a8"
             ],
             [
              0.3333333333333333,
              "#9c179e"
             ],
             [
              0.4444444444444444,
              "#bd3786"
             ],
             [
              0.5555555555555556,
              "#d8576b"
             ],
             [
              0.6666666666666666,
              "#ed7953"
             ],
             [
              0.7777777777777778,
              "#fb9f3a"
             ],
             [
              0.8888888888888888,
              "#fdca26"
             ],
             [
              1,
              "#f0f921"
             ]
            ],
            "type": "heatmapgl"
           }
          ],
          "histogram": [
           {
            "marker": {
             "pattern": {
              "fillmode": "overlay",
              "size": 10,
              "solidity": 0.2
             }
            },
            "type": "histogram"
           }
          ],
          "histogram2d": [
           {
            "colorbar": {
             "outlinewidth": 0,
             "ticks": ""
            },
            "colorscale": [
             [
              0,
              "#0d0887"
             ],
             [
              0.1111111111111111,
              "#46039f"
             ],
             [
              0.2222222222222222,
              "#7201a8"
             ],
             [
              0.3333333333333333,
              "#9c179e"
             ],
             [
              0.4444444444444444,
              "#bd3786"
             ],
             [
              0.5555555555555556,
              "#d8576b"
             ],
             [
              0.6666666666666666,
              "#ed7953"
             ],
             [
              0.7777777777777778,
              "#fb9f3a"
             ],
             [
              0.8888888888888888,
              "#fdca26"
             ],
             [
              1,
              "#f0f921"
             ]
            ],
            "type": "histogram2d"
           }
          ],
          "histogram2dcontour": [
           {
            "colorbar": {
             "outlinewidth": 0,
             "ticks": ""
            },
            "colorscale": [
             [
              0,
              "#0d0887"
             ],
             [
              0.1111111111111111,
              "#46039f"
             ],
             [
              0.2222222222222222,
              "#7201a8"
             ],
             [
              0.3333333333333333,
              "#9c179e"
             ],
             [
              0.4444444444444444,
              "#bd3786"
             ],
             [
              0.5555555555555556,
              "#d8576b"
             ],
             [
              0.6666666666666666,
              "#ed7953"
             ],
             [
              0.7777777777777778,
              "#fb9f3a"
             ],
             [
              0.8888888888888888,
              "#fdca26"
             ],
             [
              1,
              "#f0f921"
             ]
            ],
            "type": "histogram2dcontour"
           }
          ],
          "mesh3d": [
           {
            "colorbar": {
             "outlinewidth": 0,
             "ticks": ""
            },
            "type": "mesh3d"
           }
          ],
          "parcoords": [
           {
            "line": {
             "colorbar": {
              "outlinewidth": 0,
              "ticks": ""
             }
            },
            "type": "parcoords"
           }
          ],
          "pie": [
           {
            "automargin": true,
            "type": "pie"
           }
          ],
          "scatter": [
           {
            "marker": {
             "line": {
              "color": "#283442"
             }
            },
            "type": "scatter"
           }
          ],
          "scatter3d": [
           {
            "line": {
             "colorbar": {
              "outlinewidth": 0,
              "ticks": ""
             }
            },
            "marker": {
             "colorbar": {
              "outlinewidth": 0,
              "ticks": ""
             }
            },
            "type": "scatter3d"
           }
          ],
          "scattercarpet": [
           {
            "marker": {
             "colorbar": {
              "outlinewidth": 0,
              "ticks": ""
             }
            },
            "type": "scattercarpet"
           }
          ],
          "scattergeo": [
           {
            "marker": {
             "colorbar": {
              "outlinewidth": 0,
              "ticks": ""
             }
            },
            "type": "scattergeo"
           }
          ],
          "scattergl": [
           {
            "marker": {
             "line": {
              "color": "#283442"
             }
            },
            "type": "scattergl"
           }
          ],
          "scattermapbox": [
           {
            "marker": {
             "colorbar": {
              "outlinewidth": 0,
              "ticks": ""
             }
            },
            "type": "scattermapbox"
           }
          ],
          "scatterpolar": [
           {
            "marker": {
             "colorbar": {
              "outlinewidth": 0,
              "ticks": ""
             }
            },
            "type": "scatterpolar"
           }
          ],
          "scatterpolargl": [
           {
            "marker": {
             "colorbar": {
              "outlinewidth": 0,
              "ticks": ""
             }
            },
            "type": "scatterpolargl"
           }
          ],
          "scatterternary": [
           {
            "marker": {
             "colorbar": {
              "outlinewidth": 0,
              "ticks": ""
             }
            },
            "type": "scatterternary"
           }
          ],
          "surface": [
           {
            "colorbar": {
             "outlinewidth": 0,
             "ticks": ""
            },
            "colorscale": [
             [
              0,
              "#0d0887"
             ],
             [
              0.1111111111111111,
              "#46039f"
             ],
             [
              0.2222222222222222,
              "#7201a8"
             ],
             [
              0.3333333333333333,
              "#9c179e"
             ],
             [
              0.4444444444444444,
              "#bd3786"
             ],
             [
              0.5555555555555556,
              "#d8576b"
             ],
             [
              0.6666666666666666,
              "#ed7953"
             ],
             [
              0.7777777777777778,
              "#fb9f3a"
             ],
             [
              0.8888888888888888,
              "#fdca26"
             ],
             [
              1,
              "#f0f921"
             ]
            ],
            "type": "surface"
           }
          ],
          "table": [
           {
            "cells": {
             "fill": {
              "color": "#506784"
             },
             "line": {
              "color": "rgb(17,17,17)"
             }
            },
            "header": {
             "fill": {
              "color": "#2a3f5f"
             },
             "line": {
              "color": "rgb(17,17,17)"
             }
            },
            "type": "table"
           }
          ]
         },
         "layout": {
          "annotationdefaults": {
           "arrowcolor": "#f2f5fa",
           "arrowhead": 0,
           "arrowwidth": 1
          },
          "autotypenumbers": "strict",
          "coloraxis": {
           "colorbar": {
            "outlinewidth": 0,
            "ticks": ""
           }
          },
          "colorscale": {
           "diverging": [
            [
             0,
             "#8e0152"
            ],
            [
             0.1,
             "#c51b7d"
            ],
            [
             0.2,
             "#de77ae"
            ],
            [
             0.3,
             "#f1b6da"
            ],
            [
             0.4,
             "#fde0ef"
            ],
            [
             0.5,
             "#f7f7f7"
            ],
            [
             0.6,
             "#e6f5d0"
            ],
            [
             0.7,
             "#b8e186"
            ],
            [
             0.8,
             "#7fbc41"
            ],
            [
             0.9,
             "#4d9221"
            ],
            [
             1,
             "#276419"
            ]
           ],
           "sequential": [
            [
             0,
             "#0d0887"
            ],
            [
             0.1111111111111111,
             "#46039f"
            ],
            [
             0.2222222222222222,
             "#7201a8"
            ],
            [
             0.3333333333333333,
             "#9c179e"
            ],
            [
             0.4444444444444444,
             "#bd3786"
            ],
            [
             0.5555555555555556,
             "#d8576b"
            ],
            [
             0.6666666666666666,
             "#ed7953"
            ],
            [
             0.7777777777777778,
             "#fb9f3a"
            ],
            [
             0.8888888888888888,
             "#fdca26"
            ],
            [
             1,
             "#f0f921"
            ]
           ],
           "sequentialminus": [
            [
             0,
             "#0d0887"
            ],
            [
             0.1111111111111111,
             "#46039f"
            ],
            [
             0.2222222222222222,
             "#7201a8"
            ],
            [
             0.3333333333333333,
             "#9c179e"
            ],
            [
             0.4444444444444444,
             "#bd3786"
            ],
            [
             0.5555555555555556,
             "#d8576b"
            ],
            [
             0.6666666666666666,
             "#ed7953"
            ],
            [
             0.7777777777777778,
             "#fb9f3a"
            ],
            [
             0.8888888888888888,
             "#fdca26"
            ],
            [
             1,
             "#f0f921"
            ]
           ]
          },
          "colorway": [
           "#636efa",
           "#EF553B",
           "#00cc96",
           "#ab63fa",
           "#FFA15A",
           "#19d3f3",
           "#FF6692",
           "#B6E880",
           "#FF97FF",
           "#FECB52"
          ],
          "font": {
           "color": "#f2f5fa"
          },
          "geo": {
           "bgcolor": "rgb(17,17,17)",
           "lakecolor": "rgb(17,17,17)",
           "landcolor": "rgb(17,17,17)",
           "showlakes": true,
           "showland": true,
           "subunitcolor": "#506784"
          },
          "hoverlabel": {
           "align": "left"
          },
          "hovermode": "closest",
          "mapbox": {
           "style": "dark"
          },
          "paper_bgcolor": "rgb(17,17,17)",
          "plot_bgcolor": "rgb(17,17,17)",
          "polar": {
           "angularaxis": {
            "gridcolor": "#506784",
            "linecolor": "#506784",
            "ticks": ""
           },
           "bgcolor": "rgb(17,17,17)",
           "radialaxis": {
            "gridcolor": "#506784",
            "linecolor": "#506784",
            "ticks": ""
           }
          },
          "scene": {
           "xaxis": {
            "backgroundcolor": "rgb(17,17,17)",
            "gridcolor": "#506784",
            "gridwidth": 2,
            "linecolor": "#506784",
            "showbackground": true,
            "ticks": "",
            "zerolinecolor": "#C8D4E3"
           },
           "yaxis": {
            "backgroundcolor": "rgb(17,17,17)",
            "gridcolor": "#506784",
            "gridwidth": 2,
            "linecolor": "#506784",
            "showbackground": true,
            "ticks": "",
            "zerolinecolor": "#C8D4E3"
           },
           "zaxis": {
            "backgroundcolor": "rgb(17,17,17)",
            "gridcolor": "#506784",
            "gridwidth": 2,
            "linecolor": "#506784",
            "showbackground": true,
            "ticks": "",
            "zerolinecolor": "#C8D4E3"
           }
          },
          "shapedefaults": {
           "line": {
            "color": "#f2f5fa"
           }
          },
          "sliderdefaults": {
           "bgcolor": "#C8D4E3",
           "bordercolor": "rgb(17,17,17)",
           "borderwidth": 1,
           "tickwidth": 0
          },
          "ternary": {
           "aaxis": {
            "gridcolor": "#506784",
            "linecolor": "#506784",
            "ticks": ""
           },
           "baxis": {
            "gridcolor": "#506784",
            "linecolor": "#506784",
            "ticks": ""
           },
           "bgcolor": "rgb(17,17,17)",
           "caxis": {
            "gridcolor": "#506784",
            "linecolor": "#506784",
            "ticks": ""
           }
          },
          "title": {
           "x": 0.05
          },
          "updatemenudefaults": {
           "bgcolor": "#506784",
           "borderwidth": 0
          },
          "xaxis": {
           "automargin": true,
           "gridcolor": "#283442",
           "linecolor": "#506784",
           "ticks": "",
           "title": {
            "standoff": 15
           },
           "zerolinecolor": "#283442",
           "zerolinewidth": 2
          },
          "yaxis": {
           "automargin": true,
           "gridcolor": "#283442",
           "linecolor": "#506784",
           "ticks": "",
           "title": {
            "standoff": 15
           },
           "zerolinecolor": "#283442",
           "zerolinewidth": 2
          }
         }
        },
        "xaxis": {
         "tickmode": "linear"
        }
       }
      }
     },
     "metadata": {},
     "output_type": "display_data"
    },
    {
     "data": {
      "text/plain": [
       "'contagem_incendios.html'"
      ]
     },
     "execution_count": 10,
     "metadata": {},
     "output_type": "execute_result"
    }
   ],
   "source": [
    "data = []\n",
    "layout = go.Layout(barmode = 'stack', template = 'plotly_dark', xaxis_tickmode = 'linear')\n",
    "\n",
    "colors = dict(zip(\n",
    "    df_count.columns,\n",
    "    pc.sample_colorscale('Phase', np.arange(len(df_count.columns)) / len(df_count.columns))\n",
    "))\n",
    "\n",
    "for col in df_count.columns:\n",
    "    data.append(go.Bar(\n",
    "        x = df_count.index.values,\n",
    "        y = df_count[col].values,\n",
    "        name = col,\n",
    "        # marker_color = colors[col],\n",
    "        text = [(f'{col}<br>{val:,.0f}' if val > 5_000 else '') for val in df_count[col].values]\n",
    "        # texttemplate=f'{col}<br>' + '%{y:.3s}'\n",
    "    ))\n",
    "    \n",
    "fig = go.Figure(data = data, layout = layout)\n",
    "fig.show()\n",
    "\n",
    "plotly.offline.plot(fig, filename = 'contagem_incendios.html')"
   ]
  },
  {
   "cell_type": "code",
   "execution_count": null,
   "metadata": {},
   "outputs": [],
   "source": []
  },
  {
   "cell_type": "code",
   "execution_count": 13,
   "metadata": {},
   "outputs": [
    {
     "data": {
      "application/vnd.plotly.v1+json": {
       "config": {
        "plotlyServerURL": "https://plot.ly"
       },
       "data": [
        {
         "name": "ACRE",
         "texttemplate": "",
         "type": "bar",
         "x": [
          2003,
          2004,
          2005,
          2006,
          2007,
          2008,
          2009,
          2010,
          2011,
          2013,
          2014,
          2015,
          2016,
          2017,
          2018,
          2019,
          2020,
          2021,
          2022,
          2023
         ],
         "y": [
          0.030837804810146613,
          0.01911182956800589,
          0.04411095450997482,
          0.02487368518213814,
          0.021702651587271367,
          0.026890573907791614,
          0.022636716483346444,
          0.027117911723541954,
          0.02018355587321868,
          0.03886222638417418,
          0.025003979714825007,
          0.026658609268468202,
          0.04171167698963722,
          0.030336179809935037,
          0.0498682923157974,
          0.034417503238341966,
          0.04126177641530182,
          0.04795714929840668,
          0.0589750103355698,
          0.03455484699922591
         ]
        },
        {
         "name": "ALAGOAS",
         "texttemplate": "",
         "type": "bar",
         "x": [
          2003,
          2004,
          2005,
          2006,
          2007,
          2008,
          2009,
          2010,
          2011,
          2013,
          2014,
          2015,
          2016,
          2017,
          2018,
          2019,
          2020,
          2021,
          2022,
          2023
         ],
         "y": [
          0.0010930819342568363,
          0.0006124406944499205,
          0.0008053772723636995,
          0.0010755320472431466,
          0.0006651181092367643,
          0.0019298551900836585,
          0.0023210532423824323,
          0.0009361800722017139,
          0.0016888152360229982,
          0.0015685356432166685,
          0.0009380756373229027,
          0.0021219865484504883,
          0.0021062116959889693,
          0.0006216627792663415,
          0.0015127568299841952,
          0.00117389896373057,
          0.0007136541335834863,
          0.0009398036733829129,
          0.0006973396492381565,
          0.0011953596874160746
         ]
        },
        {
         "name": "AMAPÁ",
         "texttemplate": "",
         "type": "bar",
         "x": [
          2003,
          2004,
          2005,
          2006,
          2007,
          2008,
          2009,
          2010,
          2011,
          2013,
          2014,
          2015,
          2016,
          2017,
          2018,
          2019,
          2020,
          2021,
          2022,
          2023
         ],
         "y": [
          0.007373174655737801,
          0.008971073348315789,
          0.005571445514296826,
          0.006681943502462086,
          0.0037673102065166344,
          0.010158870963936716,
          0.01583474100914237,
          0.003131037030774963,
          0.008829910372614628,
          0.011931796012329783,
          0.01050644713801651,
          0.01354380979619703,
          0.014086647812091175,
          0.009377951693428687,
          0.00907654097990517,
          0.00646150420984456,
          0.0033662930829409733,
          0.0036722964347216712,
          0.004931187519612678,
          0.013438581155444152
         ]
        },
        {
         "name": "AMAZONAS",
         "texttemplate": "AMAZONAS<br>%{y:.1%}",
         "type": "bar",
         "x": [
          2003,
          2004,
          2005,
          2006,
          2007,
          2008,
          2009,
          2010,
          2011,
          2013,
          2014,
          2015,
          2016,
          2017,
          2018,
          2019,
          2020,
          2021,
          2022,
          2023
         ],
         "y": [
          0.02986487397322096,
          0.021246172245659688,
          0.043148363181019576,
          0.046942158047026436,
          0.028668621403094577,
          0.031618483199879206,
          0.05983159469252492,
          0.038007658516577274,
          0.031802857703084775,
          0.05081743337625346,
          0.05120755918404475,
          0.06190203802968936,
          0.06065129711155865,
          0.056311081982381404,
          0.08614435162188605,
          0.06413941062176166,
          0.07508628931269272,
          0.08066014417566181,
          0.10568182384204261,
          0.10321693935261005
         ]
        },
        {
         "name": "BAHIA",
         "texttemplate": "BAHIA<br>%{y:.1%}",
         "type": "bar",
         "x": [
          2003,
          2004,
          2005,
          2006,
          2007,
          2008,
          2009,
          2010,
          2011,
          2013,
          2014,
          2015,
          2016,
          2017,
          2018,
          2019,
          2020,
          2021,
          2022,
          2023
         ],
         "y": [
          0.05739119732033748,
          0.04989683134224395,
          0.05087943336744235,
          0.04100666589078534,
          0.07480801695797316,
          0.09805457385116995,
          0.05774264677438073,
          0.05342488485611319,
          0.08308717955205283,
          0.05642826485621757,
          0.04087735655970709,
          0.07617470407513678,
          0.034258510343779344,
          0.03108313896331708,
          0.03729961616617747,
          0.03729659164507772,
          0.035512147829638636,
          0.07800370489078177,
          0.048913395396562115,
          0.06275375063849058
         ]
        },
        {
         "name": "CEARÁ",
         "texttemplate": "",
         "type": "bar",
         "x": [
          2003,
          2004,
          2005,
          2006,
          2007,
          2008,
          2009,
          2010,
          2011,
          2013,
          2014,
          2015,
          2016,
          2017,
          2018,
          2019,
          2020,
          2021,
          2022,
          2023
         ],
         "y": [
          0.03407016237981227,
          0.027814795831197676,
          0.02351039681379512,
          0.024749276624434643,
          0.019108183237500475,
          0.03600666248295452,
          0.03511882503126974,
          0.015448536709843667,
          0.030348073042840245,
          0.022092161223613876,
          0.01322970913969936,
          0.01456789895653618,
          0.023428890927547404,
          0.016799352314127648,
          0.022834349364040038,
          0.021777849740932644,
          0.017859306902696177,
          0.023788440958056507,
          0.020601405637492964,
          0.035850258819068885
         ]
        },
        {
         "name": "DISTRITO FEDERAL",
         "texttemplate": "",
         "type": "bar",
         "x": [
          2003,
          2004,
          2005,
          2006,
          2007,
          2008,
          2009,
          2010,
          2011,
          2013,
          2014,
          2015,
          2016,
          2017,
          2018,
          2019,
          2020,
          2021,
          2022,
          2023
         ],
         "y": [
          0.000471812845617562,
          0.0008200922603792927,
          0.000386139788119582,
          0.0005618450993061213,
          0.0012312300877092774,
          0.0009484129418259544,
          0.0006382896416551689,
          0.0019193256998650524,
          0.0017077906881131442,
          0.0008193842912325881,
          0.0013701589611807244,
          0.0007150172065430994,
          0.0012430991710862733,
          0.0013830792065848063,
          0.0006623014977045232,
          0.0010777606865284973,
          0.0008797245923419076,
          0.0014069893144865577,
          0.0012502303711341234,
          0.00046866525189440816
         ]
        },
        {
         "name": "ESPÍRITO SANTO",
         "texttemplate": "",
         "type": "bar",
         "x": [
          2003,
          2004,
          2005,
          2006,
          2007,
          2008,
          2009,
          2010,
          2011,
          2013,
          2014,
          2015,
          2016,
          2017,
          2018,
          2019,
          2020,
          2021,
          2022,
          2023
         ],
         "y": [
          0.0028601822193959035,
          0.000701809722824587,
          0.0005488701273985487,
          0.001729680270006702,
          0.0019217343843214907,
          0.001944010607125837,
          0.0015409214581372259,
          0.0009236559240786141,
          0.002302354853604387,
          0.0021460064770377307,
          0.0016828508402883587,
          0.004336233381616215,
          0.0032516000151994657,
          0.0009011700753705881,
          0.001542861443516219,
          0.0031472636010362693,
          0.001799844701679107,
          0.002982382755417452,
          0.0023609928124206153,
          0.0028593846267265573
         ]
        },
        {
         "name": "GOIÁS",
         "texttemplate": "",
         "type": "bar",
         "x": [
          2003,
          2004,
          2005,
          2006,
          2007,
          2008,
          2009,
          2010,
          2011,
          2013,
          2014,
          2015,
          2016,
          2017,
          2018,
          2019,
          2020,
          2021,
          2022,
          2023
         ],
         "y": [
          0.02014435714767156,
          0.023688049520955722,
          0.016901890154262845,
          0.017605817504685387,
          0.032085602223830015,
          0.024724795100338315,
          0.018826320743768617,
          0.042015385915969226,
          0.03647081891726071,
          0.023801162745327557,
          0.033526254747231254,
          0.028171677937798116,
          0.026664205800767574,
          0.030977118954449948,
          0.023406337021148492,
          0.03622895077720207,
          0.02696625178974582,
          0.03270299487725512,
          0.023888863983901415,
          0.01664024939310483
         ]
        },
        {
         "name": "MARANHÃO",
         "texttemplate": "MARANHÃO<br>%{y:.1%}",
         "type": "bar",
         "x": [
          2003,
          2004,
          2005,
          2006,
          2007,
          2008,
          2009,
          2010,
          2011,
          2013,
          2014,
          2015,
          2016,
          2017,
          2018,
          2019,
          2020,
          2021,
          2022,
          2023
         ],
         "y": [
          0.10124341733164927,
          0.08827820052832867,
          0.0929245400109774,
          0.09351510360022314,
          0.11364126778619753,
          0.1043820452690237,
          0.12335108509239082,
          0.11358463036542334,
          0.12217028570705697,
          0.13621288384252214,
          0.14028494758147045,
          0.13117567280812628,
          0.11827898619562799,
          0.12325307939934846,
          0.1045533227967186,
          0.09371458063471502,
          0.07548126770109113,
          0.08733655293050342,
          0.10073569332994625,
          0.1111789827331083
         ]
        },
        {
         "name": "MATO GROSSO",
         "texttemplate": "MATO GROSSO<br>%{y:.1%}",
         "type": "bar",
         "x": [
          2003,
          2004,
          2005,
          2006,
          2007,
          2008,
          2009,
          2010,
          2011,
          2013,
          2014,
          2015,
          2016,
          2017,
          2018,
          2019,
          2020,
          2021,
          2022,
          2023
         ],
         "y": [
          0.20677710799239238,
          0.25499612296126906,
          0.19887302344695956,
          0.1744890219480775,
          0.2030082632039907,
          0.13894957368602343,
          0.09709094660288069,
          0.18477188829712288,
          0.10987419275264233,
          0.14478910609075657,
          0.14187683351147296,
          0.12796962791427174,
          0.14822193391489386,
          0.148962931549627,
          0.13571159780236322,
          0.1577123137953368,
          0.21413214720126392,
          0.1223374492750474,
          0.1446431862444773,
          0.11439118277418234
         ]
        },
        {
         "name": "MATO GROSSO DO SUL",
         "texttemplate": "",
         "type": "bar",
         "x": [
          2003,
          2004,
          2005,
          2006,
          2007,
          2008,
          2009,
          2010,
          2011,
          2013,
          2014,
          2015,
          2016,
          2017,
          2018,
          2019,
          2020,
          2021,
          2022,
          2023
         ],
         "y": [
          0.016446047761526448,
          0.02264716319047431,
          0.035591055899250615,
          0.021045112148295003,
          0.028277674117512662,
          0.022790221437907262,
          0.04070224755322304,
          0.023031908398380627,
          0.023599137249444967,
          0.028210230598150532,
          0.012587269460805494,
          0.02129828672651284,
          0.0345950699446848,
          0.0276471268577597,
          0.01791224505155415,
          0.05896312338082901,
          0.054219760589235944,
          0.05093953205382413,
          0.01179500206711396,
          0.023849268829548027
         ]
        },
        {
         "name": "MINAS GERAIS",
         "texttemplate": "",
         "type": "bar",
         "x": [
          2003,
          2004,
          2005,
          2006,
          2007,
          2008,
          2009,
          2010,
          2011,
          2013,
          2014,
          2015,
          2016,
          2017,
          2018,
          2019,
          2020,
          2021,
          2022,
          2023
         ],
         "y": [
          0.056928176018427076,
          0.03477243754024892,
          0.03779205269153223,
          0.03544439940765474,
          0.05715446225708592,
          0.0560931992658057,
          0.031824218901110236,
          0.043101855765648144,
          0.0744217230975528,
          0.04203831597019002,
          0.06445432424442271,
          0.04377750509738073,
          0.035186763436599225,
          0.04039844246968791,
          0.03482351170316851,
          0.05059403335492228,
          0.03921507022087371,
          0.0657862571368039,
          0.03880197048260885,
          0.034217829289998475
         ]
        },
        {
         "name": "PARANÁ",
         "texttemplate": "",
         "type": "bar",
         "x": [
          2003,
          2004,
          2005,
          2006,
          2007,
          2008,
          2009,
          2010,
          2011,
          2013,
          2014,
          2015,
          2016,
          2017,
          2018,
          2019,
          2020,
          2021,
          2022,
          2023
         ],
         "y": [
          0.03184297130733185,
          0.018746467952003576,
          0.013854143969461859,
          0.023597494170857096,
          0.01268801645024942,
          0.01727904573615246,
          0.01950329460613016,
          0.010639263830573325,
          0.021429610560471605,
          0.019751063248663624,
          0.01269529029176995,
          0.009627360710035152,
          0.022533208118686116,
          0.01731017599321472,
          0.01889817114472793,
          0.01676853950777202,
          0.015794647145159046,
          0.02008898256745672,
          0.008821346562862679,
          0.0075776325559107115
         ]
        },
        {
         "name": "PARAÍBA",
         "texttemplate": "",
         "type": "bar",
         "x": [
          2003,
          2004,
          2005,
          2006,
          2007,
          2008,
          2009,
          2010,
          2011,
          2013,
          2014,
          2015,
          2016,
          2017,
          2018,
          2019,
          2020,
          2021,
          2022,
          2023
         ],
         "y": [
          0.004577463756861067,
          0.0029123789246803086,
          0.002769173909086145,
          0.004069363790688622,
          0.0025056166939568182,
          0.004090915525189564,
          0.0068084228443218014,
          0.0029932714014208645,
          0.005958291956305859,
          0.0023879199344492568,
          0.0022456962226821003,
          0.002491027687311443,
          0.0038432935071138928,
          0.0017493301463076122,
          0.005712350417701513,
          0.005990932642487046,
          0.004084435607301714,
          0.004927178796290763,
          0.0039847979956466086,
          0.005007872523051485
         ]
        },
        {
         "name": "PARÁ",
         "texttemplate": "PARÁ<br>%{y:.1%}",
         "type": "bar",
         "x": [
          2003,
          2004,
          2005,
          2006,
          2007,
          2008,
          2009,
          2010,
          2011,
          2013,
          2014,
          2015,
          2016,
          2017,
          2018,
          2019,
          2020,
          2021,
          2022,
          2023
         ],
         "y": [
          0.15543449274258067,
          0.1950715609352206,
          0.19714366882445258,
          0.22409593103752723,
          0.17387253595318786,
          0.22860526675883416,
          0.26862322858506016,
          0.17908279401220478,
          0.16801497795684983,
          0.18764680635217917,
          0.20197621267596025,
          0.199116146472428,
          0.16135318673086632,
          0.23984617460531643,
          0.16617746669677128,
          0.15263216483160622,
          0.1732653491743605,
          0.12427138053356947,
          0.2063178972220977,
          0.21966708969410376
         ]
        },
        {
         "name": "PERNAMBUCO",
         "texttemplate": "",
         "type": "bar",
         "x": [
          2003,
          2004,
          2005,
          2006,
          2007,
          2008,
          2009,
          2010,
          2011,
          2013,
          2014,
          2015,
          2016,
          2017,
          2018,
          2019,
          2020,
          2021,
          2022,
          2023
         ],
         "y": [
          0.008117525356277308,
          0.005264887171601677,
          0.004994993973461164,
          0.007059182354853338,
          0.005475800616884353,
          0.007643925202776349,
          0.011050792381787468,
          0.006008460062057154,
          0.010891909499743831,
          0.005431347301884584,
          0.0033713869874695836,
          0.004382363523973835,
          0.004744404696634947,
          0.0027131484087360488,
          0.005433882742530293,
          0.0042503238341968915,
          0.00456469342046796,
          0.006475410281343539,
          0.00575305210621479,
          0.009657663730048815
         ]
        },
        {
         "name": "PIAUÍ",
         "texttemplate": "",
         "type": "bar",
         "x": [
          2003,
          2004,
          2005,
          2006,
          2007,
          2008,
          2009,
          2010,
          2011,
          2013,
          2014,
          2015,
          2016,
          2017,
          2018,
          2019,
          2020,
          2021,
          2022,
          2023
         ],
         "y": [
          0.03181952719077943,
          0.02940241033526528,
          0.03275017031522797,
          0.031571681401723256,
          0.045639287663582245,
          0.03140615194424653,
          0.04217224794006525,
          0.06009086269463309,
          0.07060765722743344,
          0.05059893089859144,
          0.052361676483296565,
          0.06383950400870937,
          0.04507184461803199,
          0.03689978217707269,
          0.07097915255512907,
          0.05512265220207254,
          0.0418183368716814,
          0.06923582553332501,
          0.05412351877587006,
          0.06823028841343648
         ]
        },
        {
         "name": "RIO DE JANEIRO",
         "texttemplate": "",
         "type": "bar",
         "x": [
          2003,
          2004,
          2005,
          2006,
          2007,
          2008,
          2009,
          2010,
          2011,
          2013,
          2014,
          2015,
          2016,
          2017,
          2018,
          2019,
          2020,
          2021,
          2022,
          2023
         ],
         "y": [
          0.0032558016862180832,
          0.0019713756259117613,
          0.001894843103129663,
          0.004703446117048387,
          0.0034753690516989705,
          0.002783898684961757,
          0.0027207901896816288,
          0.003559989103991133,
          0.0069639909170836,
          0.003059034687268329,
          0.007294248743547177,
          0.0025002537157829668,
          0.0036750137066611658,
          0.004621508568344353,
          0.0018514337322194626,
          0.0036026554404145076,
          0.0031104548086374594,
          0.002727060370163135,
          0.00372080512843502,
          0.002127424289498212
         ]
        },
        {
         "name": "RIO GRANDE DO NORTE",
         "texttemplate": "",
         "type": "bar",
         "x": [
          2003,
          2004,
          2005,
          2006,
          2007,
          2008,
          2009,
          2010,
          2011,
          2013,
          2014,
          2015,
          2016,
          2017,
          2018,
          2019,
          2020,
          2021,
          2022,
          2023
         ],
         "y": [
          0.00453350603832527,
          0.002168513188502937,
          0.002760899485055011,
          0.002945673592076379,
          0.001964890902859754,
          0.0028169279913935062,
          0.004248816907583396,
          0.0019662912553266767,
          0.002934869923275922,
          0.0019509149791252097,
          0.0018022422850385463,
          0.0018544317227762964,
          0.0020519278893913156,
          0.001691501050561906,
          0.003431925942650711,
          0.0036937338082901556,
          0.002980291476097075,
          0.003058436231876185,
          0.002047189970263445,
          0.003048957088166992
         ]
        },
        {
         "name": "RIO GRANDE DO SUL",
         "texttemplate": "",
         "type": "bar",
         "x": [
          2003,
          2004,
          2005,
          2006,
          2007,
          2008,
          2009,
          2010,
          2011,
          2013,
          2014,
          2015,
          2016,
          2017,
          2018,
          2019,
          2020,
          2021,
          2022,
          2023
         ],
         "y": [
          0.0179699153374341,
          0.012430180446582291,
          0.007907591232420297,
          0.016518245919599966,
          0.007163982077351713,
          0.011135594739847028,
          0.019264741911774186,
          0.007874558132399031,
          0.012517473228799677,
          0.012072261890826799,
          0.011961885702590226,
          0.005895432193303749,
          0.019145898586992515,
          0.01068874453033136,
          0.012154737713554603,
          0.016171470207253884,
          0.016212067487443728,
          0.013282196424400127,
          0.008143930903602756,
          0.009610270614688707
         ]
        },
        {
         "name": "RONDÔNIA",
         "texttemplate": "",
         "type": "bar",
         "x": [
          2003,
          2004,
          2005,
          2006,
          2007,
          2008,
          2009,
          2010,
          2011,
          2013,
          2014,
          2015,
          2016,
          2017,
          2018,
          2019,
          2020,
          2021,
          2022,
          2023
         ],
         "y": [
          0.08954773368655802,
          0.10745574261719829,
          0.11487382882423193,
          0.10314673387404236,
          0.0698120152824848,
          0.05454554033586086,
          0.034822246005854214,
          0.05313369841225112,
          0.03845691623602932,
          0.03599828319481837,
          0.041696040752279805,
          0.06049045567354621,
          0.062285239690148035,
          0.05451838001426451,
          0.07718070294272597,
          0.056822781735751296,
          0.05002311521250286,
          0.05448688349150645,
          0.062063228782195924,
          0.03905719295843624
         ]
        },
        {
         "name": "RORAIMA",
         "texttemplate": "",
         "type": "bar",
         "x": [
          2003,
          2004,
          2005,
          2006,
          2007,
          2008,
          2009,
          2010,
          2011,
          2013,
          2014,
          2015,
          2016,
          2017,
          2018,
          2019,
          2020,
          2021,
          2022,
          2023
         ],
         "y": [
          0.011683961586815029,
          0.005837900353533362,
          0.004029644503162209,
          0.008784849445579283,
          0.008235279184595662,
          0.009201021077415977,
          0.01520934610772266,
          0.006005329025026379,
          0.00932959727765514,
          0.010886105583518671,
          0.014321288063129647,
          0.011311110906088256,
          0.021007833153292042,
          0.007541877903502516,
          0.01793482351170317,
          0.02420660621761658,
          0.008662594200101438,
          0.005372634872691913,
          0.006091759935844752,
          0.014002032638058779
         ]
        },
        {
         "name": "SANTA CATARINA",
         "texttemplate": "",
         "type": "bar",
         "x": [
          2003,
          2004,
          2005,
          2006,
          2007,
          2008,
          2009,
          2010,
          2011,
          2013,
          2014,
          2015,
          2016,
          2017,
          2018,
          2019,
          2020,
          2021,
          2022,
          2023
         ],
         "y": [
          0.02241257542411872,
          0.013221359197781545,
          0.009879662293173877,
          0.020009711893859434,
          0.006826345785258241,
          0.010592970419896854,
          0.013674872019703164,
          0.006772433097566245,
          0.0112081670345796,
          0.012977486441140895,
          0.006708662133581971,
          0.00417939089760031,
          0.013902082869659152,
          0.009662278080845075,
          0.010664559343719425,
          0.009128076424870466,
          0.01088434763484248,
          0.012771551653891494,
          0.0067741565925992335,
          0.007061574188656194
         ]
        },
        {
         "name": "SERGIPE",
         "texttemplate": "",
         "type": "bar",
         "x": [
          2003,
          2004,
          2005,
          2006,
          2007,
          2008,
          2009,
          2010,
          2011,
          2013,
          2014,
          2015,
          2016,
          2017,
          2018,
          2019,
          2020,
          2021,
          2022,
          2023
         ],
         "y": [
          0.0013714808183168882,
          0.0007570082403501163,
          0.0008081354137074109,
          0.0009069785174513101,
          0.00048487617887107623,
          0.001476881844733949,
          0.0016311846397854316,
          0.0005166211100778689,
          0.0014611098109412457,
          0.001357836825471146,
          0.0005059923134650809,
          0.0011117364308186255,
          0.0007274030084085617,
          0.00037107003103494803,
          0.0010536614736208324,
          0.0004098526554404145,
          0.00034560608984860657,
          0.0007170756351823382,
          0.0004233847870374521,
          0.0007951511577084902
         ]
        },
        {
         "name": "SÃO PAULO",
         "texttemplate": "",
         "type": "bar",
         "x": [
          2003,
          2004,
          2005,
          2006,
          2007,
          2008,
          2009,
          2010,
          2011,
          2013,
          2014,
          2015,
          2016,
          2017,
          2018,
          2019,
          2020,
          2021,
          2022,
          2023
         ],
         "y": [
          0.01640209004299065,
          0.011389294116100882,
          0.0105691976291017,
          0.021538733199828235,
          0.01136285746925098,
          0.013192848683310292,
          0.01136671351755619,
          0.022828390991380256,
          0.026458105364360305,
          0.018635139880604005,
          0.02549291610761149,
          0.008340329738257572,
          0.017294820782012516,
          0.018804094299978796,
          0.02272145706329495,
          0.015554161269430052,
          0.027482416729130106,
          0.029709747339486423,
          0.007964614993798658,
          0.008772992243326786
         ]
        },
        {
         "name": "TOCANTINS",
         "texttemplate": "TOCANTINS<br>%{y:.1%}",
         "type": "bar",
         "x": [
          2003,
          2004,
          2005,
          2006,
          2007,
          2008,
          2009,
          2010,
          2011,
          2013,
          2014,
          2015,
          2016,
          2017,
          2018,
          2019,
          2020,
          2021,
          2022,
          2023
         ],
         "y": [
          0.035529558635200756,
          0.03981390214091393,
          0.044720503746935016,
          0.04133173341252674,
          0.06445299112752752,
          0.05073773315151486,
          0.041443695116761874,
          0.09111317759555142,
          0.06728062796096117,
          0.07752936127043583,
          0.08002069451709003,
          0.07244738857264113,
          0.0786789492826395,
          0.07552961813520442,
          0.06045759012568676,
          0.06894126457253887,
          0.054278109669340255,
          0.05436193849446711,
          0.06049421457141007,
          0.05076855835408976
         ]
        }
       ],
       "layout": {
        "barmode": "stack",
        "template": {
         "data": {
          "bar": [
           {
            "error_x": {
             "color": "#f2f5fa"
            },
            "error_y": {
             "color": "#f2f5fa"
            },
            "marker": {
             "line": {
              "color": "rgb(17,17,17)",
              "width": 0.5
             },
             "pattern": {
              "fillmode": "overlay",
              "size": 10,
              "solidity": 0.2
             }
            },
            "type": "bar"
           }
          ],
          "barpolar": [
           {
            "marker": {
             "line": {
              "color": "rgb(17,17,17)",
              "width": 0.5
             },
             "pattern": {
              "fillmode": "overlay",
              "size": 10,
              "solidity": 0.2
             }
            },
            "type": "barpolar"
           }
          ],
          "carpet": [
           {
            "aaxis": {
             "endlinecolor": "#A2B1C6",
             "gridcolor": "#506784",
             "linecolor": "#506784",
             "minorgridcolor": "#506784",
             "startlinecolor": "#A2B1C6"
            },
            "baxis": {
             "endlinecolor": "#A2B1C6",
             "gridcolor": "#506784",
             "linecolor": "#506784",
             "minorgridcolor": "#506784",
             "startlinecolor": "#A2B1C6"
            },
            "type": "carpet"
           }
          ],
          "choropleth": [
           {
            "colorbar": {
             "outlinewidth": 0,
             "ticks": ""
            },
            "type": "choropleth"
           }
          ],
          "contour": [
           {
            "colorbar": {
             "outlinewidth": 0,
             "ticks": ""
            },
            "colorscale": [
             [
              0,
              "#0d0887"
             ],
             [
              0.1111111111111111,
              "#46039f"
             ],
             [
              0.2222222222222222,
              "#7201a8"
             ],
             [
              0.3333333333333333,
              "#9c179e"
             ],
             [
              0.4444444444444444,
              "#bd3786"
             ],
             [
              0.5555555555555556,
              "#d8576b"
             ],
             [
              0.6666666666666666,
              "#ed7953"
             ],
             [
              0.7777777777777778,
              "#fb9f3a"
             ],
             [
              0.8888888888888888,
              "#fdca26"
             ],
             [
              1,
              "#f0f921"
             ]
            ],
            "type": "contour"
           }
          ],
          "contourcarpet": [
           {
            "colorbar": {
             "outlinewidth": 0,
             "ticks": ""
            },
            "type": "contourcarpet"
           }
          ],
          "heatmap": [
           {
            "colorbar": {
             "outlinewidth": 0,
             "ticks": ""
            },
            "colorscale": [
             [
              0,
              "#0d0887"
             ],
             [
              0.1111111111111111,
              "#46039f"
             ],
             [
              0.2222222222222222,
              "#7201a8"
             ],
             [
              0.3333333333333333,
              "#9c179e"
             ],
             [
              0.4444444444444444,
              "#bd3786"
             ],
             [
              0.5555555555555556,
              "#d8576b"
             ],
             [
              0.6666666666666666,
              "#ed7953"
             ],
             [
              0.7777777777777778,
              "#fb9f3a"
             ],
             [
              0.8888888888888888,
              "#fdca26"
             ],
             [
              1,
              "#f0f921"
             ]
            ],
            "type": "heatmap"
           }
          ],
          "heatmapgl": [
           {
            "colorbar": {
             "outlinewidth": 0,
             "ticks": ""
            },
            "colorscale": [
             [
              0,
              "#0d0887"
             ],
             [
              0.1111111111111111,
              "#46039f"
             ],
             [
              0.2222222222222222,
              "#7201a8"
             ],
             [
              0.3333333333333333,
              "#9c179e"
             ],
             [
              0.4444444444444444,
              "#bd3786"
             ],
             [
              0.5555555555555556,
              "#d8576b"
             ],
             [
              0.6666666666666666,
              "#ed7953"
             ],
             [
              0.7777777777777778,
              "#fb9f3a"
             ],
             [
              0.8888888888888888,
              "#fdca26"
             ],
             [
              1,
              "#f0f921"
             ]
            ],
            "type": "heatmapgl"
           }
          ],
          "histogram": [
           {
            "marker": {
             "pattern": {
              "fillmode": "overlay",
              "size": 10,
              "solidity": 0.2
             }
            },
            "type": "histogram"
           }
          ],
          "histogram2d": [
           {
            "colorbar": {
             "outlinewidth": 0,
             "ticks": ""
            },
            "colorscale": [
             [
              0,
              "#0d0887"
             ],
             [
              0.1111111111111111,
              "#46039f"
             ],
             [
              0.2222222222222222,
              "#7201a8"
             ],
             [
              0.3333333333333333,
              "#9c179e"
             ],
             [
              0.4444444444444444,
              "#bd3786"
             ],
             [
              0.5555555555555556,
              "#d8576b"
             ],
             [
              0.6666666666666666,
              "#ed7953"
             ],
             [
              0.7777777777777778,
              "#fb9f3a"
             ],
             [
              0.8888888888888888,
              "#fdca26"
             ],
             [
              1,
              "#f0f921"
             ]
            ],
            "type": "histogram2d"
           }
          ],
          "histogram2dcontour": [
           {
            "colorbar": {
             "outlinewidth": 0,
             "ticks": ""
            },
            "colorscale": [
             [
              0,
              "#0d0887"
             ],
             [
              0.1111111111111111,
              "#46039f"
             ],
             [
              0.2222222222222222,
              "#7201a8"
             ],
             [
              0.3333333333333333,
              "#9c179e"
             ],
             [
              0.4444444444444444,
              "#bd3786"
             ],
             [
              0.5555555555555556,
              "#d8576b"
             ],
             [
              0.6666666666666666,
              "#ed7953"
             ],
             [
              0.7777777777777778,
              "#fb9f3a"
             ],
             [
              0.8888888888888888,
              "#fdca26"
             ],
             [
              1,
              "#f0f921"
             ]
            ],
            "type": "histogram2dcontour"
           }
          ],
          "mesh3d": [
           {
            "colorbar": {
             "outlinewidth": 0,
             "ticks": ""
            },
            "type": "mesh3d"
           }
          ],
          "parcoords": [
           {
            "line": {
             "colorbar": {
              "outlinewidth": 0,
              "ticks": ""
             }
            },
            "type": "parcoords"
           }
          ],
          "pie": [
           {
            "automargin": true,
            "type": "pie"
           }
          ],
          "scatter": [
           {
            "marker": {
             "line": {
              "color": "#283442"
             }
            },
            "type": "scatter"
           }
          ],
          "scatter3d": [
           {
            "line": {
             "colorbar": {
              "outlinewidth": 0,
              "ticks": ""
             }
            },
            "marker": {
             "colorbar": {
              "outlinewidth": 0,
              "ticks": ""
             }
            },
            "type": "scatter3d"
           }
          ],
          "scattercarpet": [
           {
            "marker": {
             "colorbar": {
              "outlinewidth": 0,
              "ticks": ""
             }
            },
            "type": "scattercarpet"
           }
          ],
          "scattergeo": [
           {
            "marker": {
             "colorbar": {
              "outlinewidth": 0,
              "ticks": ""
             }
            },
            "type": "scattergeo"
           }
          ],
          "scattergl": [
           {
            "marker": {
             "line": {
              "color": "#283442"
             }
            },
            "type": "scattergl"
           }
          ],
          "scattermapbox": [
           {
            "marker": {
             "colorbar": {
              "outlinewidth": 0,
              "ticks": ""
             }
            },
            "type": "scattermapbox"
           }
          ],
          "scatterpolar": [
           {
            "marker": {
             "colorbar": {
              "outlinewidth": 0,
              "ticks": ""
             }
            },
            "type": "scatterpolar"
           }
          ],
          "scatterpolargl": [
           {
            "marker": {
             "colorbar": {
              "outlinewidth": 0,
              "ticks": ""
             }
            },
            "type": "scatterpolargl"
           }
          ],
          "scatterternary": [
           {
            "marker": {
             "colorbar": {
              "outlinewidth": 0,
              "ticks": ""
             }
            },
            "type": "scatterternary"
           }
          ],
          "surface": [
           {
            "colorbar": {
             "outlinewidth": 0,
             "ticks": ""
            },
            "colorscale": [
             [
              0,
              "#0d0887"
             ],
             [
              0.1111111111111111,
              "#46039f"
             ],
             [
              0.2222222222222222,
              "#7201a8"
             ],
             [
              0.3333333333333333,
              "#9c179e"
             ],
             [
              0.4444444444444444,
              "#bd3786"
             ],
             [
              0.5555555555555556,
              "#d8576b"
             ],
             [
              0.6666666666666666,
              "#ed7953"
             ],
             [
              0.7777777777777778,
              "#fb9f3a"
             ],
             [
              0.8888888888888888,
              "#fdca26"
             ],
             [
              1,
              "#f0f921"
             ]
            ],
            "type": "surface"
           }
          ],
          "table": [
           {
            "cells": {
             "fill": {
              "color": "#506784"
             },
             "line": {
              "color": "rgb(17,17,17)"
             }
            },
            "header": {
             "fill": {
              "color": "#2a3f5f"
             },
             "line": {
              "color": "rgb(17,17,17)"
             }
            },
            "type": "table"
           }
          ]
         },
         "layout": {
          "annotationdefaults": {
           "arrowcolor": "#f2f5fa",
           "arrowhead": 0,
           "arrowwidth": 1
          },
          "autotypenumbers": "strict",
          "coloraxis": {
           "colorbar": {
            "outlinewidth": 0,
            "ticks": ""
           }
          },
          "colorscale": {
           "diverging": [
            [
             0,
             "#8e0152"
            ],
            [
             0.1,
             "#c51b7d"
            ],
            [
             0.2,
             "#de77ae"
            ],
            [
             0.3,
             "#f1b6da"
            ],
            [
             0.4,
             "#fde0ef"
            ],
            [
             0.5,
             "#f7f7f7"
            ],
            [
             0.6,
             "#e6f5d0"
            ],
            [
             0.7,
             "#b8e186"
            ],
            [
             0.8,
             "#7fbc41"
            ],
            [
             0.9,
             "#4d9221"
            ],
            [
             1,
             "#276419"
            ]
           ],
           "sequential": [
            [
             0,
             "#0d0887"
            ],
            [
             0.1111111111111111,
             "#46039f"
            ],
            [
             0.2222222222222222,
             "#7201a8"
            ],
            [
             0.3333333333333333,
             "#9c179e"
            ],
            [
             0.4444444444444444,
             "#bd3786"
            ],
            [
             0.5555555555555556,
             "#d8576b"
            ],
            [
             0.6666666666666666,
             "#ed7953"
            ],
            [
             0.7777777777777778,
             "#fb9f3a"
            ],
            [
             0.8888888888888888,
             "#fdca26"
            ],
            [
             1,
             "#f0f921"
            ]
           ],
           "sequentialminus": [
            [
             0,
             "#0d0887"
            ],
            [
             0.1111111111111111,
             "#46039f"
            ],
            [
             0.2222222222222222,
             "#7201a8"
            ],
            [
             0.3333333333333333,
             "#9c179e"
            ],
            [
             0.4444444444444444,
             "#bd3786"
            ],
            [
             0.5555555555555556,
             "#d8576b"
            ],
            [
             0.6666666666666666,
             "#ed7953"
            ],
            [
             0.7777777777777778,
             "#fb9f3a"
            ],
            [
             0.8888888888888888,
             "#fdca26"
            ],
            [
             1,
             "#f0f921"
            ]
           ]
          },
          "colorway": [
           "#636efa",
           "#EF553B",
           "#00cc96",
           "#ab63fa",
           "#FFA15A",
           "#19d3f3",
           "#FF6692",
           "#B6E880",
           "#FF97FF",
           "#FECB52"
          ],
          "font": {
           "color": "#f2f5fa"
          },
          "geo": {
           "bgcolor": "rgb(17,17,17)",
           "lakecolor": "rgb(17,17,17)",
           "landcolor": "rgb(17,17,17)",
           "showlakes": true,
           "showland": true,
           "subunitcolor": "#506784"
          },
          "hoverlabel": {
           "align": "left"
          },
          "hovermode": "closest",
          "mapbox": {
           "style": "dark"
          },
          "paper_bgcolor": "rgb(17,17,17)",
          "plot_bgcolor": "rgb(17,17,17)",
          "polar": {
           "angularaxis": {
            "gridcolor": "#506784",
            "linecolor": "#506784",
            "ticks": ""
           },
           "bgcolor": "rgb(17,17,17)",
           "radialaxis": {
            "gridcolor": "#506784",
            "linecolor": "#506784",
            "ticks": ""
           }
          },
          "scene": {
           "xaxis": {
            "backgroundcolor": "rgb(17,17,17)",
            "gridcolor": "#506784",
            "gridwidth": 2,
            "linecolor": "#506784",
            "showbackground": true,
            "ticks": "",
            "zerolinecolor": "#C8D4E3"
           },
           "yaxis": {
            "backgroundcolor": "rgb(17,17,17)",
            "gridcolor": "#506784",
            "gridwidth": 2,
            "linecolor": "#506784",
            "showbackground": true,
            "ticks": "",
            "zerolinecolor": "#C8D4E3"
           },
           "zaxis": {
            "backgroundcolor": "rgb(17,17,17)",
            "gridcolor": "#506784",
            "gridwidth": 2,
            "linecolor": "#506784",
            "showbackground": true,
            "ticks": "",
            "zerolinecolor": "#C8D4E3"
           }
          },
          "shapedefaults": {
           "line": {
            "color": "#f2f5fa"
           }
          },
          "sliderdefaults": {
           "bgcolor": "#C8D4E3",
           "bordercolor": "rgb(17,17,17)",
           "borderwidth": 1,
           "tickwidth": 0
          },
          "ternary": {
           "aaxis": {
            "gridcolor": "#506784",
            "linecolor": "#506784",
            "ticks": ""
           },
           "baxis": {
            "gridcolor": "#506784",
            "linecolor": "#506784",
            "ticks": ""
           },
           "bgcolor": "rgb(17,17,17)",
           "caxis": {
            "gridcolor": "#506784",
            "linecolor": "#506784",
            "ticks": ""
           }
          },
          "title": {
           "x": 0.05
          },
          "updatemenudefaults": {
           "bgcolor": "#506784",
           "borderwidth": 0
          },
          "xaxis": {
           "automargin": true,
           "gridcolor": "#283442",
           "linecolor": "#506784",
           "ticks": "",
           "title": {
            "standoff": 15
           },
           "zerolinecolor": "#283442",
           "zerolinewidth": 2
          },
          "yaxis": {
           "automargin": true,
           "gridcolor": "#283442",
           "linecolor": "#506784",
           "ticks": "",
           "title": {
            "standoff": 15
           },
           "zerolinecolor": "#283442",
           "zerolinewidth": 2
          }
         }
        },
        "xaxis": {
         "tickmode": "linear"
        },
        "yaxis": {
         "tickformat": ".1%"
        }
       }
      }
     },
     "metadata": {},
     "output_type": "display_data"
    },
    {
     "data": {
      "text/plain": [
       "'contagem_incendios_rel.html'"
      ]
     },
     "execution_count": 13,
     "metadata": {},
     "output_type": "execute_result"
    }
   ],
   "source": [
    "data = []\n",
    "layout = go.Layout(barmode = 'stack', template = 'plotly_dark', xaxis_tickmode = 'linear', yaxis_tickformat = '.1%')\n",
    "\n",
    "for col in df_count_rel.columns:\n",
    "    data.append(go.Bar(\n",
    "        x = df_count_rel.index.values,\n",
    "        y = df_count_rel[col].values,\n",
    "        name = col,\n",
    "        # marker_color = colors[col],\n",
    "        # text = [(f'{col}<br>{val:,.0f}' if val > 5_000 else '') for val in df_count_rel[col].values]\n",
    "        texttemplate=f'{col}<br>' + '%{y:.1%}' if col in ('MARANHÃO', 'PARÁ', 'MATO GROSSO', 'BAHIA', 'AMAZONAS', 'TOCANTINS', ) else ''\n",
    "    ))\n",
    "    \n",
    "fig = go.Figure(data = data, layout = layout)\n",
    "fig.show()\n",
    "\n",
    "plotly.offline.plot(fig, filename = 'contagem_incendios_rel.html')"
   ]
  },
  {
   "cell_type": "code",
   "execution_count": 14,
   "metadata": {},
   "outputs": [],
   "source": [
    "from plotly.subplots import make_subplots"
   ]
  },
  {
   "cell_type": "code",
   "execution_count": 17,
   "metadata": {},
   "outputs": [
    {
     "data": {
      "text/plain": [
       "['AMAZONAS',\n",
       " 'BAHIA',\n",
       " 'MARANHÃO',\n",
       " 'MATO GROSSO',\n",
       " 'PARÁ',\n",
       " 'RONDÔNIA',\n",
       " 'TOCANTINS']"
      ]
     },
     "execution_count": 17,
     "metadata": {},
     "output_type": "execute_result"
    }
   ],
   "source": [
    "sorted(['TOCANTINS', 'MARANHÃO', 'PARÁ', 'MATO GROSSO', 'BAHIA', 'AMAZONAS', 'RONDÔNIA'])"
   ]
  },
  {
   "cell_type": "code",
   "execution_count": 16,
   "metadata": {},
   "outputs": [
    {
     "data": {
      "application/vnd.plotly.v1+json": {
       "config": {
        "plotlyServerURL": "https://plot.ly"
       },
       "data": [
        {
         "name": "# de Focos",
         "texttemplate": "%{y:.3s}",
         "type": "bar",
         "x": [
          2003,
          2004,
          2005,
          2006,
          2007,
          2008,
          2009,
          2010,
          2011,
          2013,
          2014,
          2015,
          2016,
          2017,
          2018,
          2019,
          2020,
          2021,
          2022,
          2023
         ],
         "y": [
          341237,
          380445,
          362563,
          249179,
          393915,
          211933,
          155102,
          319383,
          158099,
          128145,
          175892,
          216778,
          184217,
          207508,
          132870,
          197632,
          222797,
          184081,
          200763,
          189901
         ],
         "yaxis": "y"
        },
        {
         "name": "% do Total de Focos nos Principais Estados",
         "texttemplate": "%{y:.1%}",
         "type": "scatter",
         "x": [
          2003,
          2004,
          2005,
          2006,
          2007,
          2008,
          2009,
          2010,
          2011,
          2013,
          2014,
          2015,
          2016,
          2017,
          2018,
          2019,
          2020,
          2021,
          2022,
          2023
         ],
         "y": [
          0.6757883816819394,
          0.7567585327708342,
          0.7425633614020184,
          0.7245273478102088,
          0.7282637117144561,
          0.7068932162523063,
          0.6829054428698534,
          0.713118732055244,
          0.6206870378686772,
          0.689422138983183,
          0.6979396447820254,
          0.7292760335458396,
          0.6637281032695137,
          0.7295044046494594,
          0.6675246481523294,
          0.6312591078367875,
          0.67777842610089,
          0.6014580537915375,
          0.728849439388732,
          0.7010336965050209
         ],
         "yaxis": "y2"
        }
       ],
       "layout": {
        "barmode": "stack",
        "template": {
         "data": {
          "bar": [
           {
            "error_x": {
             "color": "#2a3f5f"
            },
            "error_y": {
             "color": "#2a3f5f"
            },
            "marker": {
             "line": {
              "color": "white",
              "width": 0.5
             },
             "pattern": {
              "fillmode": "overlay",
              "size": 10,
              "solidity": 0.2
             }
            },
            "type": "bar"
           }
          ],
          "barpolar": [
           {
            "marker": {
             "line": {
              "color": "white",
              "width": 0.5
             },
             "pattern": {
              "fillmode": "overlay",
              "size": 10,
              "solidity": 0.2
             }
            },
            "type": "barpolar"
           }
          ],
          "carpet": [
           {
            "aaxis": {
             "endlinecolor": "#2a3f5f",
             "gridcolor": "#C8D4E3",
             "linecolor": "#C8D4E3",
             "minorgridcolor": "#C8D4E3",
             "startlinecolor": "#2a3f5f"
            },
            "baxis": {
             "endlinecolor": "#2a3f5f",
             "gridcolor": "#C8D4E3",
             "linecolor": "#C8D4E3",
             "minorgridcolor": "#C8D4E3",
             "startlinecolor": "#2a3f5f"
            },
            "type": "carpet"
           }
          ],
          "choropleth": [
           {
            "colorbar": {
             "outlinewidth": 0,
             "ticks": ""
            },
            "type": "choropleth"
           }
          ],
          "contour": [
           {
            "colorbar": {
             "outlinewidth": 0,
             "ticks": ""
            },
            "colorscale": [
             [
              0,
              "#0d0887"
             ],
             [
              0.1111111111111111,
              "#46039f"
             ],
             [
              0.2222222222222222,
              "#7201a8"
             ],
             [
              0.3333333333333333,
              "#9c179e"
             ],
             [
              0.4444444444444444,
              "#bd3786"
             ],
             [
              0.5555555555555556,
              "#d8576b"
             ],
             [
              0.6666666666666666,
              "#ed7953"
             ],
             [
              0.7777777777777778,
              "#fb9f3a"
             ],
             [
              0.8888888888888888,
              "#fdca26"
             ],
             [
              1,
              "#f0f921"
             ]
            ],
            "type": "contour"
           }
          ],
          "contourcarpet": [
           {
            "colorbar": {
             "outlinewidth": 0,
             "ticks": ""
            },
            "type": "contourcarpet"
           }
          ],
          "heatmap": [
           {
            "colorbar": {
             "outlinewidth": 0,
             "ticks": ""
            },
            "colorscale": [
             [
              0,
              "#0d0887"
             ],
             [
              0.1111111111111111,
              "#46039f"
             ],
             [
              0.2222222222222222,
              "#7201a8"
             ],
             [
              0.3333333333333333,
              "#9c179e"
             ],
             [
              0.4444444444444444,
              "#bd3786"
             ],
             [
              0.5555555555555556,
              "#d8576b"
             ],
             [
              0.6666666666666666,
              "#ed7953"
             ],
             [
              0.7777777777777778,
              "#fb9f3a"
             ],
             [
              0.8888888888888888,
              "#fdca26"
             ],
             [
              1,
              "#f0f921"
             ]
            ],
            "type": "heatmap"
           }
          ],
          "heatmapgl": [
           {
            "colorbar": {
             "outlinewidth": 0,
             "ticks": ""
            },
            "colorscale": [
             [
              0,
              "#0d0887"
             ],
             [
              0.1111111111111111,
              "#46039f"
             ],
             [
              0.2222222222222222,
              "#7201a8"
             ],
             [
              0.3333333333333333,
              "#9c179e"
             ],
             [
              0.4444444444444444,
              "#bd3786"
             ],
             [
              0.5555555555555556,
              "#d8576b"
             ],
             [
              0.6666666666666666,
              "#ed7953"
             ],
             [
              0.7777777777777778,
              "#fb9f3a"
             ],
             [
              0.8888888888888888,
              "#fdca26"
             ],
             [
              1,
              "#f0f921"
             ]
            ],
            "type": "heatmapgl"
           }
          ],
          "histogram": [
           {
            "marker": {
             "pattern": {
              "fillmode": "overlay",
              "size": 10,
              "solidity": 0.2
             }
            },
            "type": "histogram"
           }
          ],
          "histogram2d": [
           {
            "colorbar": {
             "outlinewidth": 0,
             "ticks": ""
            },
            "colorscale": [
             [
              0,
              "#0d0887"
             ],
             [
              0.1111111111111111,
              "#46039f"
             ],
             [
              0.2222222222222222,
              "#7201a8"
             ],
             [
              0.3333333333333333,
              "#9c179e"
             ],
             [
              0.4444444444444444,
              "#bd3786"
             ],
             [
              0.5555555555555556,
              "#d8576b"
             ],
             [
              0.6666666666666666,
              "#ed7953"
             ],
             [
              0.7777777777777778,
              "#fb9f3a"
             ],
             [
              0.8888888888888888,
              "#fdca26"
             ],
             [
              1,
              "#f0f921"
             ]
            ],
            "type": "histogram2d"
           }
          ],
          "histogram2dcontour": [
           {
            "colorbar": {
             "outlinewidth": 0,
             "ticks": ""
            },
            "colorscale": [
             [
              0,
              "#0d0887"
             ],
             [
              0.1111111111111111,
              "#46039f"
             ],
             [
              0.2222222222222222,
              "#7201a8"
             ],
             [
              0.3333333333333333,
              "#9c179e"
             ],
             [
              0.4444444444444444,
              "#bd3786"
             ],
             [
              0.5555555555555556,
              "#d8576b"
             ],
             [
              0.6666666666666666,
              "#ed7953"
             ],
             [
              0.7777777777777778,
              "#fb9f3a"
             ],
             [
              0.8888888888888888,
              "#fdca26"
             ],
             [
              1,
              "#f0f921"
             ]
            ],
            "type": "histogram2dcontour"
           }
          ],
          "mesh3d": [
           {
            "colorbar": {
             "outlinewidth": 0,
             "ticks": ""
            },
            "type": "mesh3d"
           }
          ],
          "parcoords": [
           {
            "line": {
             "colorbar": {
              "outlinewidth": 0,
              "ticks": ""
             }
            },
            "type": "parcoords"
           }
          ],
          "pie": [
           {
            "automargin": true,
            "type": "pie"
           }
          ],
          "scatter": [
           {
            "fillpattern": {
             "fillmode": "overlay",
             "size": 10,
             "solidity": 0.2
            },
            "type": "scatter"
           }
          ],
          "scatter3d": [
           {
            "line": {
             "colorbar": {
              "outlinewidth": 0,
              "ticks": ""
             }
            },
            "marker": {
             "colorbar": {
              "outlinewidth": 0,
              "ticks": ""
             }
            },
            "type": "scatter3d"
           }
          ],
          "scattercarpet": [
           {
            "marker": {
             "colorbar": {
              "outlinewidth": 0,
              "ticks": ""
             }
            },
            "type": "scattercarpet"
           }
          ],
          "scattergeo": [
           {
            "marker": {
             "colorbar": {
              "outlinewidth": 0,
              "ticks": ""
             }
            },
            "type": "scattergeo"
           }
          ],
          "scattergl": [
           {
            "marker": {
             "colorbar": {
              "outlinewidth": 0,
              "ticks": ""
             }
            },
            "type": "scattergl"
           }
          ],
          "scattermapbox": [
           {
            "marker": {
             "colorbar": {
              "outlinewidth": 0,
              "ticks": ""
             }
            },
            "type": "scattermapbox"
           }
          ],
          "scatterpolar": [
           {
            "marker": {
             "colorbar": {
              "outlinewidth": 0,
              "ticks": ""
             }
            },
            "type": "scatterpolar"
           }
          ],
          "scatterpolargl": [
           {
            "marker": {
             "colorbar": {
              "outlinewidth": 0,
              "ticks": ""
             }
            },
            "type": "scatterpolargl"
           }
          ],
          "scatterternary": [
           {
            "marker": {
             "colorbar": {
              "outlinewidth": 0,
              "ticks": ""
             }
            },
            "type": "scatterternary"
           }
          ],
          "surface": [
           {
            "colorbar": {
             "outlinewidth": 0,
             "ticks": ""
            },
            "colorscale": [
             [
              0,
              "#0d0887"
             ],
             [
              0.1111111111111111,
              "#46039f"
             ],
             [
              0.2222222222222222,
              "#7201a8"
             ],
             [
              0.3333333333333333,
              "#9c179e"
             ],
             [
              0.4444444444444444,
              "#bd3786"
             ],
             [
              0.5555555555555556,
              "#d8576b"
             ],
             [
              0.6666666666666666,
              "#ed7953"
             ],
             [
              0.7777777777777778,
              "#fb9f3a"
             ],
             [
              0.8888888888888888,
              "#fdca26"
             ],
             [
              1,
              "#f0f921"
             ]
            ],
            "type": "surface"
           }
          ],
          "table": [
           {
            "cells": {
             "fill": {
              "color": "#EBF0F8"
             },
             "line": {
              "color": "white"
             }
            },
            "header": {
             "fill": {
              "color": "#C8D4E3"
             },
             "line": {
              "color": "white"
             }
            },
            "type": "table"
           }
          ]
         },
         "layout": {
          "annotationdefaults": {
           "arrowcolor": "#2a3f5f",
           "arrowhead": 0,
           "arrowwidth": 1
          },
          "autotypenumbers": "strict",
          "coloraxis": {
           "colorbar": {
            "outlinewidth": 0,
            "ticks": ""
           }
          },
          "colorscale": {
           "diverging": [
            [
             0,
             "#8e0152"
            ],
            [
             0.1,
             "#c51b7d"
            ],
            [
             0.2,
             "#de77ae"
            ],
            [
             0.3,
             "#f1b6da"
            ],
            [
             0.4,
             "#fde0ef"
            ],
            [
             0.5,
             "#f7f7f7"
            ],
            [
             0.6,
             "#e6f5d0"
            ],
            [
             0.7,
             "#b8e186"
            ],
            [
             0.8,
             "#7fbc41"
            ],
            [
             0.9,
             "#4d9221"
            ],
            [
             1,
             "#276419"
            ]
           ],
           "sequential": [
            [
             0,
             "#0d0887"
            ],
            [
             0.1111111111111111,
             "#46039f"
            ],
            [
             0.2222222222222222,
             "#7201a8"
            ],
            [
             0.3333333333333333,
             "#9c179e"
            ],
            [
             0.4444444444444444,
             "#bd3786"
            ],
            [
             0.5555555555555556,
             "#d8576b"
            ],
            [
             0.6666666666666666,
             "#ed7953"
            ],
            [
             0.7777777777777778,
             "#fb9f3a"
            ],
            [
             0.8888888888888888,
             "#fdca26"
            ],
            [
             1,
             "#f0f921"
            ]
           ],
           "sequentialminus": [
            [
             0,
             "#0d0887"
            ],
            [
             0.1111111111111111,
             "#46039f"
            ],
            [
             0.2222222222222222,
             "#7201a8"
            ],
            [
             0.3333333333333333,
             "#9c179e"
            ],
            [
             0.4444444444444444,
             "#bd3786"
            ],
            [
             0.5555555555555556,
             "#d8576b"
            ],
            [
             0.6666666666666666,
             "#ed7953"
            ],
            [
             0.7777777777777778,
             "#fb9f3a"
            ],
            [
             0.8888888888888888,
             "#fdca26"
            ],
            [
             1,
             "#f0f921"
            ]
           ]
          },
          "colorway": [
           "#636efa",
           "#EF553B",
           "#00cc96",
           "#ab63fa",
           "#FFA15A",
           "#19d3f3",
           "#FF6692",
           "#B6E880",
           "#FF97FF",
           "#FECB52"
          ],
          "font": {
           "color": "#2a3f5f"
          },
          "geo": {
           "bgcolor": "white",
           "lakecolor": "white",
           "landcolor": "white",
           "showlakes": true,
           "showland": true,
           "subunitcolor": "#C8D4E3"
          },
          "hoverlabel": {
           "align": "left"
          },
          "hovermode": "closest",
          "mapbox": {
           "style": "light"
          },
          "paper_bgcolor": "white",
          "plot_bgcolor": "white",
          "polar": {
           "angularaxis": {
            "gridcolor": "#EBF0F8",
            "linecolor": "#EBF0F8",
            "ticks": ""
           },
           "bgcolor": "white",
           "radialaxis": {
            "gridcolor": "#EBF0F8",
            "linecolor": "#EBF0F8",
            "ticks": ""
           }
          },
          "scene": {
           "xaxis": {
            "backgroundcolor": "white",
            "gridcolor": "#DFE8F3",
            "gridwidth": 2,
            "linecolor": "#EBF0F8",
            "showbackground": true,
            "ticks": "",
            "zerolinecolor": "#EBF0F8"
           },
           "yaxis": {
            "backgroundcolor": "white",
            "gridcolor": "#DFE8F3",
            "gridwidth": 2,
            "linecolor": "#EBF0F8",
            "showbackground": true,
            "ticks": "",
            "zerolinecolor": "#EBF0F8"
           },
           "zaxis": {
            "backgroundcolor": "white",
            "gridcolor": "#DFE8F3",
            "gridwidth": 2,
            "linecolor": "#EBF0F8",
            "showbackground": true,
            "ticks": "",
            "zerolinecolor": "#EBF0F8"
           }
          },
          "shapedefaults": {
           "line": {
            "color": "#2a3f5f"
           }
          },
          "ternary": {
           "aaxis": {
            "gridcolor": "#DFE8F3",
            "linecolor": "#A2B1C6",
            "ticks": ""
           },
           "baxis": {
            "gridcolor": "#DFE8F3",
            "linecolor": "#A2B1C6",
            "ticks": ""
           },
           "bgcolor": "white",
           "caxis": {
            "gridcolor": "#DFE8F3",
            "linecolor": "#A2B1C6",
            "ticks": ""
           }
          },
          "title": {
           "x": 0.05
          },
          "xaxis": {
           "automargin": true,
           "gridcolor": "#EBF0F8",
           "linecolor": "#EBF0F8",
           "ticks": "",
           "title": {
            "standoff": 15
           },
           "zerolinecolor": "#EBF0F8",
           "zerolinewidth": 2
          },
          "yaxis": {
           "automargin": true,
           "gridcolor": "#EBF0F8",
           "linecolor": "#EBF0F8",
           "ticks": "",
           "title": {
            "standoff": 15
           },
           "zerolinecolor": "#EBF0F8",
           "zerolinewidth": 2
          }
         }
        },
        "xaxis": {
         "tickmode": "linear"
        },
        "yaxis": {
         "title": {
          "text": "Quantidade de Focos"
         }
        },
        "yaxis2": {
         "overlaying": "y",
         "side": "right",
         "tickformat": ".0%",
         "title": {
          "text": "Percentual dos Focos nos Principais Estados"
         }
        }
       }
      }
     },
     "metadata": {},
     "output_type": "display_data"
    },
    {
     "data": {
      "text/plain": [
       "'contagem_incendios_all.html'"
      ]
     },
     "execution_count": 16,
     "metadata": {},
     "output_type": "execute_result"
    }
   ],
   "source": [
    "data = []\n",
    "layout = go.Layout(\n",
    "    barmode = 'stack', template = 'plotly_white', xaxis_tickmode = 'linear',\n",
    "    yaxis=dict(title='Quantidade de Focos'),\n",
    "    yaxis2=dict(\n",
    "        title='Percentual dos Focos nos Principais Estados',\n",
    "        overlaying='y',\n",
    "        side='right',\n",
    "        tickformat = '.0%'\n",
    "    )\n",
    ")\n",
    "\n",
    "# fig = make_subplots()\n",
    "\n",
    "colors = dict(zip(\n",
    "    df_count.columns,\n",
    "    pc.sample_colorscale('Phase', np.arange(len(df_count.columns)) / len(df_count.columns))\n",
    "))\n",
    "\n",
    "data.append(go.Bar(\n",
    "    x = df_count.index.values,\n",
    "    y = df_count.sum(axis = 1).values,\n",
    "    name = '# de Focos',\n",
    "    # marker_color = colors[col],\n",
    "    texttemplate='%{y:.3s}',\n",
    "    yaxis='y1'\n",
    "))\n",
    "\n",
    "data.append(go.Scatter(\n",
    "    x = df_count_rel.index.values,\n",
    "    y = df_count_rel[['TOCANTINS', 'MARANHÃO', 'PARÁ', 'MATO GROSSO', 'BAHIA', 'AMAZONAS', 'RONDÔNIA']].sum(axis = 1).values,\n",
    "    name = '% do Total de Focos nos Principais Estados',\n",
    "    # marker_color = colors[col],\n",
    "    texttemplate='%{y:.1%}',\n",
    "    yaxis='y2'\n",
    "))\n",
    "    \n",
    "fig = go.Figure(data = data, layout = layout)\n",
    "fig.show()\n",
    "\n",
    "plotly.offline.plot(fig, filename = 'contagem_incendios_all.html')"
   ]
  },
  {
   "cell_type": "code",
   "execution_count": null,
   "metadata": {},
   "outputs": [],
   "source": [
    "from pydeck.types import String\n",
    "COLOR_BREWER_BLUE_SCALE = [\n",
    "    [240, 249, 232],\n",
    "    [204, 235, 197],\n",
    "    [168, 221, 181],\n",
    "    [123, 204, 196],\n",
    "    [67, 162, 202],\n",
    "    [8, 104, 172],\n",
    "]\n",
    "df['lat_r'] = df['lat'].round(1)\n",
    "df['lon_r'] = df['lon'].round(1)\n",
    "df_summary = df[['estado', 'lat_r', 'lon_r']].groupby(['lat_r', 'lon_r']).count().reset_index()\n",
    "\n",
    "# for map_style in ('light', 'dark', 'road', 'satellite', 'dark_no_labels', 'light_no_labels'):\n",
    "\n",
    "layer = pdk.Layer(\n",
    "    \"HeatmapLayer\",\n",
    "    df_summary,\n",
    "    opacity=1,\n",
    "    get_position=[\"lon_r\", \"lat_r\"],\n",
    "    get_weight=\"estado\",\n",
    "    map_style = 'light'\n",
    ")\n",
    "\n",
    "# Set the viewport location\n",
    "view_state = pdk.ViewState(latitude=-18.51800, longitude=-55.02800, zoom=2, bearing=0, pitch=30)\n",
    "\n",
    "\n",
    "# Render\n",
    "r = pdk.Deck(layers=[layer], initial_view_state=view_state, tooltip={\"text\": \"Density: {mean}\"})\n",
    "r.show()\n",
    "# r.to_html(filename=f'test_heatmap_{map_style}.html', iframe_width='100%', iframe_height=1000)\n",
    "df['lat_r'] = df['lat'].round(1)\n",
    "df['lon_r'] = df['lon'].round(1)\n",
    "df_summary = df[['estado', 'lat_r', 'lon_r']].groupby(['lat_r', 'lon_r']).count().reset_index()\n",
    "\n",
    "for map_style in ('light', 'dark', 'road', 'satellite', 'dark_no_labels', 'light_no_labels'):\n",
    "\n",
    "    layer = pdk.Layer(\n",
    "        \"HeatmapLayer\",\n",
    "        df_summary,\n",
    "        opacity=1,\n",
    "        get_position=[\"lon_r\", \"lat_r\"],\n",
    "        get_weight=\"estado\",\n",
    "        map_style = map_style\n",
    "    )\n",
    "\n",
    "    # Set the viewport location\n",
    "    view_state = pdk.ViewState(latitude=-18.51800, longitude=-55.02800, zoom=2, bearing=0, pitch=30)\n",
    "\n",
    "\n",
    "    # Render\n",
    "    r = pdk.Deck(layers=[layer], initial_view_state=view_state, tooltip={\"text\": \"Density: {mean}\"})\n",
    "    # r.show()\n",
    "    r.to_html(filename=f'test_heatmap_{map_style}.html', iframe_width='100%', iframe_height=1000)\n",
    "df['lat_r'] = df['lat'].round(0)\n",
    "df['lon_r'] = df['lon'].round(0)\n",
    "df_summary = df[['estado', 'lat_r', 'lon_r']].groupby(['lat_r', 'lon_r']).count().reset_index()\n",
    "\n",
    "min_count = df_summary['estado'].min()\n",
    "max_count = df_summary['estado'].max()\n",
    "diff = max_count - min_count\n",
    "\n",
    "color_scheme = f\"\"\"[\n",
    "255 - (255-189) * (estado - {min_count})/{diff}, \n",
    "255 - 255 * (estado - {min_count})/{diff}, \n",
    "178 - (178-38) * (estado - {min_count})/{diff}\n",
    "]\"\"\"\n",
    "\n",
    "for map_style in ('light', 'dark', 'road', 'satellite', 'dark_no_labels', 'light_no_labels'):\n",
    "\n",
    "    layer = pdk.Layer(\n",
    "        \"ColumnLayer\",\n",
    "        df_summary,\n",
    "        # opacity=1,\n",
    "        get_position=[\"lon_r\", \"lat_r\"],\n",
    "        get_fill_color = color_scheme, #'[255 - estado, 255 - 0.5 * estado, 0]',\n",
    "        get_elevation=\"estado\",\n",
    "        elevation_scale=10,\n",
    "        radius=20_000,\n",
    "        pickable=True,\n",
    "        auto_highlight=True,\n",
    "        map_style = map_style\n",
    "    )\n",
    "\n",
    "    # Set the viewport location\n",
    "    view_state = pdk.ViewState(latitude=-18.51800, longitude=-55.02800, zoom=2, bearing=0, pitch=30)\n",
    "\n",
    "\n",
    "    # Render\n",
    "    r = pdk.Deck(layers=[layer], initial_view_state=view_state, tooltip={\"text\": \"Density: {mean}\"})\n",
    "    r.show()\n",
    "    # r.to_html(filename=f'test_column_layer_{map_style}.html', iframe_width='100%', iframe_height=1000)"
   ]
  },
  {
   "cell_type": "code",
   "execution_count": null,
   "metadata": {},
   "outputs": [],
   "source": []
  }
 ],
 "metadata": {
  "kernelspec": {
   "display_name": "Python 3",
   "language": "python",
   "name": "python3"
  },
  "language_info": {
   "codemirror_mode": {
    "name": "ipython",
    "version": 3
   },
   "file_extension": ".py",
   "mimetype": "text/x-python",
   "name": "python",
   "nbconvert_exporter": "python",
   "pygments_lexer": "ipython3",
   "version": "3.12.2"
  }
 },
 "nbformat": 4,
 "nbformat_minor": 2
}
